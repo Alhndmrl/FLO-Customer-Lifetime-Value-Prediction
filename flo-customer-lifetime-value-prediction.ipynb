{
 "cells": [
  {
   "cell_type": "markdown",
   "id": "2c0d9e73",
   "metadata": {
    "papermill": {
     "duration": 0.010951,
     "end_time": "2022-11-01T22:50:02.124801",
     "exception": false,
     "start_time": "2022-11-01T22:50:02.113850",
     "status": "completed"
    },
    "tags": []
   },
   "source": [
    "# Customer Lifetime Value Estimation with BG-NBD and Gamma-Gamma"
   ]
  },
  {
   "cell_type": "markdown",
   "id": "3e7f543a",
   "metadata": {
    "papermill": {
     "duration": 0.009025,
     "end_time": "2022-11-01T22:50:02.143357",
     "exception": false,
     "start_time": "2022-11-01T22:50:02.134332",
     "status": "completed"
    },
    "tags": []
   },
   "source": [
    "## Business Problem"
   ]
  },
  {
   "cell_type": "markdown",
   "id": "a686edb2",
   "metadata": {
    "papermill": {
     "duration": 0.0106,
     "end_time": "2022-11-01T22:50:02.163158",
     "exception": false,
     "start_time": "2022-11-01T22:50:02.152558",
     "status": "completed"
    },
    "tags": []
   },
   "source": [
    "FLO wants to set a roadmap for sales and marketing activities. In order for the company to make a medium-long-term plan, it is necessary to estimate the potential value that existing customers will provide to the company in the future."
   ]
  },
  {
   "cell_type": "markdown",
   "id": "bf0a11eb",
   "metadata": {
    "papermill": {
     "duration": 0.008958,
     "end_time": "2022-11-01T22:50:02.181273",
     "exception": false,
     "start_time": "2022-11-01T22:50:02.172315",
     "status": "completed"
    },
    "tags": []
   },
   "source": [
    "### Dataset Story"
   ]
  },
  {
   "cell_type": "markdown",
   "id": "9e4edb45",
   "metadata": {
    "papermill": {
     "duration": 0.008914,
     "end_time": "2022-11-01T22:50:02.199290",
     "exception": false,
     "start_time": "2022-11-01T22:50:02.190376",
     "status": "completed"
    },
    "tags": []
   },
   "source": [
    "The dataset consists of the information obtained from the past shopping behavior of customers who made their last purchases from Flo as OmniChannel (both online and offline shopper) between 2020 and 2021."
   ]
  },
  {
   "cell_type": "markdown",
   "id": "8a82824b",
   "metadata": {
    "papermill": {
     "duration": 0.008974,
     "end_time": "2022-11-01T22:50:02.217437",
     "exception": false,
     "start_time": "2022-11-01T22:50:02.208463",
     "status": "completed"
    },
    "tags": []
   },
   "source": [
    "**master_id :** Unique customer number\n",
    "\n",
    "**order_channel:** Which channel of the shopping platform is used (Android, ios, Desktop, Mobile)\n",
    "\n",
    "**last_order_channel:** The channel where the most recent purchase was made\n",
    "\n",
    "**first_order_date:** Date of the customer's first purchase\n",
    "\n",
    "**last_order_date:** Customer's last purchase date\n",
    "\n",
    "**last_order_date_online:** The date of the last purchase made by the customer on the online platform\n",
    "\n",
    "**last_order_date_offline:**The date of the last purchase made by the customer on the offline platform\n",
    "\n",
    "**order_num_total_ever_online:** The total number of purchases made by the customer on the online platform\n",
    "\n",
    "**order_num_total_ever_offline:** Total number of purchases made by the customer offline\n",
    "\n",
    "**customer_value_total_ever_offline:** Total fee paid by the customer for offline purchases\n",
    "\n",
    "**customer_value_total_ever_online:** The total fee paid by the customer for their online shopping\n",
    "\n",
    "**interested_in_categories_12:** List of categories the customer has shopped in the last 12 months\n",
    "\n",
    "\n"
   ]
  },
  {
   "cell_type": "code",
   "execution_count": 1,
   "id": "3dea7c6d",
   "metadata": {
    "execution": {
     "iopub.execute_input": "2022-11-01T22:50:02.238469Z",
     "iopub.status.busy": "2022-11-01T22:50:02.237291Z",
     "iopub.status.idle": "2022-11-01T22:50:17.854899Z",
     "shell.execute_reply": "2022-11-01T22:50:17.853462Z"
    },
    "papermill": {
     "duration": 15.631368,
     "end_time": "2022-11-01T22:50:17.857959",
     "exception": false,
     "start_time": "2022-11-01T22:50:02.226591",
     "status": "completed"
    },
    "tags": []
   },
   "outputs": [
    {
     "name": "stdout",
     "output_type": "stream",
     "text": [
      "Collecting lifetimes\r\n",
      "  Downloading Lifetimes-0.11.3-py3-none-any.whl (584 kB)\r\n",
      "\u001b[2K     \u001b[90m━━━━━━━━━━━━━━━━━━━━━━━━━━━━━━━━━━━━━\u001b[0m \u001b[32m584.2/584.2 kB\u001b[0m \u001b[31m811.0 kB/s\u001b[0m eta \u001b[36m0:00:00\u001b[0m\r\n",
      "\u001b[?25hRequirement already satisfied: pandas>=0.24.0 in /opt/conda/lib/python3.7/site-packages (from lifetimes) (1.3.5)\r\n",
      "Collecting autograd>=1.2.0\r\n",
      "  Downloading autograd-1.5-py3-none-any.whl (48 kB)\r\n",
      "\u001b[2K     \u001b[90m━━━━━━━━━━━━━━━━━━━━━━━━━━━━━━━━━━━━━━━━\u001b[0m \u001b[32m48.9/48.9 kB\u001b[0m \u001b[31m3.5 MB/s\u001b[0m eta \u001b[36m0:00:00\u001b[0m\r\n",
      "\u001b[?25hRequirement already satisfied: scipy>=1.0.0 in /opt/conda/lib/python3.7/site-packages (from lifetimes) (1.7.3)\r\n",
      "Requirement already satisfied: dill>=0.2.6 in /opt/conda/lib/python3.7/site-packages (from lifetimes) (0.3.5.1)\r\n",
      "Requirement already satisfied: numpy>=1.10.0 in /opt/conda/lib/python3.7/site-packages (from lifetimes) (1.21.6)\r\n",
      "Requirement already satisfied: future>=0.15.2 in /opt/conda/lib/python3.7/site-packages (from autograd>=1.2.0->lifetimes) (0.18.2)\r\n",
      "Requirement already satisfied: python-dateutil>=2.7.3 in /opt/conda/lib/python3.7/site-packages (from pandas>=0.24.0->lifetimes) (2.8.2)\r\n",
      "Requirement already satisfied: pytz>=2017.3 in /opt/conda/lib/python3.7/site-packages (from pandas>=0.24.0->lifetimes) (2022.1)\r\n",
      "Requirement already satisfied: six>=1.5 in /opt/conda/lib/python3.7/site-packages (from python-dateutil>=2.7.3->pandas>=0.24.0->lifetimes) (1.15.0)\r\n",
      "Installing collected packages: autograd, lifetimes\r\n",
      "Successfully installed autograd-1.5 lifetimes-0.11.3\r\n",
      "\u001b[33mWARNING: Running pip as the 'root' user can result in broken permissions and conflicting behaviour with the system package manager. It is recommended to use a virtual environment instead: https://pip.pypa.io/warnings/venv\u001b[0m\u001b[33m\r\n",
      "\u001b[0m"
     ]
    }
   ],
   "source": [
    "!pip install lifetimes"
   ]
  },
  {
   "cell_type": "code",
   "execution_count": 2,
   "id": "7c829989",
   "metadata": {
    "execution": {
     "iopub.execute_input": "2022-11-01T22:50:17.883000Z",
     "iopub.status.busy": "2022-11-01T22:50:17.882550Z",
     "iopub.status.idle": "2022-11-01T22:50:18.977149Z",
     "shell.execute_reply": "2022-11-01T22:50:18.975746Z"
    },
    "papermill": {
     "duration": 1.110408,
     "end_time": "2022-11-01T22:50:18.980076",
     "exception": false,
     "start_time": "2022-11-01T22:50:17.869668",
     "status": "completed"
    },
    "tags": []
   },
   "outputs": [],
   "source": [
    "#Necessary libraries are imported.\n",
    "import datetime as dt\n",
    "import pandas as pd\n",
    "import matplotlib.pyplot as plt\n",
    "from lifetimes import BetaGeoFitter\n",
    "from lifetimes import GammaGammaFitter\n",
    "from lifetimes.plotting import plot_period_transactions\n",
    "\n",
    "pd.set_option('display.max_columns', None)\n",
    "pd.set_option('display.width', 500)\n",
    "pd.set_option('display.float_format', lambda x: '%.4f' % x)\n",
    "from sklearn.preprocessing import MinMaxScaler"
   ]
  },
  {
   "cell_type": "code",
   "execution_count": 3,
   "id": "0848dfde",
   "metadata": {
    "execution": {
     "iopub.execute_input": "2022-11-01T22:50:19.004355Z",
     "iopub.status.busy": "2022-11-01T22:50:19.003629Z",
     "iopub.status.idle": "2022-11-01T22:50:19.104970Z",
     "shell.execute_reply": "2022-11-01T22:50:19.103786Z"
    },
    "papermill": {
     "duration": 0.116577,
     "end_time": "2022-11-01T22:50:19.107772",
     "exception": false,
     "start_time": "2022-11-01T22:50:18.991195",
     "status": "completed"
    },
    "tags": []
   },
   "outputs": [],
   "source": [
    "df_ = pd.read_csv(\"../input/flo-data/flo_data_20k.csv\")"
   ]
  },
  {
   "cell_type": "code",
   "execution_count": 4,
   "id": "e3155c33",
   "metadata": {
    "execution": {
     "iopub.execute_input": "2022-11-01T22:50:19.131746Z",
     "iopub.status.busy": "2022-11-01T22:50:19.131323Z",
     "iopub.status.idle": "2022-11-01T22:50:19.137686Z",
     "shell.execute_reply": "2022-11-01T22:50:19.136494Z"
    },
    "papermill": {
     "duration": 0.021244,
     "end_time": "2022-11-01T22:50:19.140124",
     "exception": false,
     "start_time": "2022-11-01T22:50:19.118880",
     "status": "completed"
    },
    "tags": []
   },
   "outputs": [],
   "source": [
    "df = df_.copy()"
   ]
  },
  {
   "cell_type": "markdown",
   "id": "d7fed98d",
   "metadata": {
    "papermill": {
     "duration": 0.010647,
     "end_time": "2022-11-01T22:50:19.162201",
     "exception": false,
     "start_time": "2022-11-01T22:50:19.151554",
     "status": "completed"
    },
    "tags": []
   },
   "source": [
    "## Data Overview"
   ]
  },
  {
   "cell_type": "code",
   "execution_count": 5,
   "id": "fabcbb19",
   "metadata": {
    "execution": {
     "iopub.execute_input": "2022-11-01T22:50:19.185794Z",
     "iopub.status.busy": "2022-11-01T22:50:19.185363Z",
     "iopub.status.idle": "2022-11-01T22:50:19.211010Z",
     "shell.execute_reply": "2022-11-01T22:50:19.209830Z"
    },
    "papermill": {
     "duration": 0.040321,
     "end_time": "2022-11-01T22:50:19.213461",
     "exception": false,
     "start_time": "2022-11-01T22:50:19.173140",
     "status": "completed"
    },
    "tags": []
   },
   "outputs": [
    {
     "data": {
      "text/html": [
       "<div>\n",
       "<style scoped>\n",
       "    .dataframe tbody tr th:only-of-type {\n",
       "        vertical-align: middle;\n",
       "    }\n",
       "\n",
       "    .dataframe tbody tr th {\n",
       "        vertical-align: top;\n",
       "    }\n",
       "\n",
       "    .dataframe thead th {\n",
       "        text-align: right;\n",
       "    }\n",
       "</style>\n",
       "<table border=\"1\" class=\"dataframe\">\n",
       "  <thead>\n",
       "    <tr style=\"text-align: right;\">\n",
       "      <th></th>\n",
       "      <th>master_id</th>\n",
       "      <th>order_channel</th>\n",
       "      <th>last_order_channel</th>\n",
       "      <th>first_order_date</th>\n",
       "      <th>last_order_date</th>\n",
       "      <th>last_order_date_online</th>\n",
       "      <th>last_order_date_offline</th>\n",
       "      <th>order_num_total_ever_online</th>\n",
       "      <th>order_num_total_ever_offline</th>\n",
       "      <th>customer_value_total_ever_offline</th>\n",
       "      <th>customer_value_total_ever_online</th>\n",
       "      <th>interested_in_categories_12</th>\n",
       "    </tr>\n",
       "  </thead>\n",
       "  <tbody>\n",
       "    <tr>\n",
       "      <th>0</th>\n",
       "      <td>cc294636-19f0-11eb-8d74-000d3a38a36f</td>\n",
       "      <td>Android App</td>\n",
       "      <td>Offline</td>\n",
       "      <td>2020-10-30</td>\n",
       "      <td>2021-02-26</td>\n",
       "      <td>2021-02-21</td>\n",
       "      <td>2021-02-26</td>\n",
       "      <td>4.0000</td>\n",
       "      <td>1.0000</td>\n",
       "      <td>139.9900</td>\n",
       "      <td>799.3800</td>\n",
       "      <td>[KADIN]</td>\n",
       "    </tr>\n",
       "    <tr>\n",
       "      <th>1</th>\n",
       "      <td>f431bd5a-ab7b-11e9-a2fc-000d3a38a36f</td>\n",
       "      <td>Android App</td>\n",
       "      <td>Mobile</td>\n",
       "      <td>2017-02-08</td>\n",
       "      <td>2021-02-16</td>\n",
       "      <td>2021-02-16</td>\n",
       "      <td>2020-01-10</td>\n",
       "      <td>19.0000</td>\n",
       "      <td>2.0000</td>\n",
       "      <td>159.9700</td>\n",
       "      <td>1853.5800</td>\n",
       "      <td>[ERKEK, COCUK, KADIN, AKTIFSPOR]</td>\n",
       "    </tr>\n",
       "    <tr>\n",
       "      <th>2</th>\n",
       "      <td>69b69676-1a40-11ea-941b-000d3a38a36f</td>\n",
       "      <td>Android App</td>\n",
       "      <td>Android App</td>\n",
       "      <td>2019-11-27</td>\n",
       "      <td>2020-11-27</td>\n",
       "      <td>2020-11-27</td>\n",
       "      <td>2019-12-01</td>\n",
       "      <td>3.0000</td>\n",
       "      <td>2.0000</td>\n",
       "      <td>189.9700</td>\n",
       "      <td>395.3500</td>\n",
       "      <td>[ERKEK, KADIN]</td>\n",
       "    </tr>\n",
       "    <tr>\n",
       "      <th>3</th>\n",
       "      <td>1854e56c-491f-11eb-806e-000d3a38a36f</td>\n",
       "      <td>Android App</td>\n",
       "      <td>Android App</td>\n",
       "      <td>2021-01-06</td>\n",
       "      <td>2021-01-17</td>\n",
       "      <td>2021-01-17</td>\n",
       "      <td>2021-01-06</td>\n",
       "      <td>1.0000</td>\n",
       "      <td>1.0000</td>\n",
       "      <td>39.9900</td>\n",
       "      <td>81.9800</td>\n",
       "      <td>[AKTIFCOCUK, COCUK]</td>\n",
       "    </tr>\n",
       "    <tr>\n",
       "      <th>4</th>\n",
       "      <td>d6ea1074-f1f5-11e9-9346-000d3a38a36f</td>\n",
       "      <td>Desktop</td>\n",
       "      <td>Desktop</td>\n",
       "      <td>2019-08-03</td>\n",
       "      <td>2021-03-07</td>\n",
       "      <td>2021-03-07</td>\n",
       "      <td>2019-08-03</td>\n",
       "      <td>1.0000</td>\n",
       "      <td>1.0000</td>\n",
       "      <td>49.9900</td>\n",
       "      <td>159.9900</td>\n",
       "      <td>[AKTIFSPOR]</td>\n",
       "    </tr>\n",
       "  </tbody>\n",
       "</table>\n",
       "</div>"
      ],
      "text/plain": [
       "                              master_id order_channel last_order_channel first_order_date last_order_date last_order_date_online last_order_date_offline  order_num_total_ever_online  order_num_total_ever_offline  customer_value_total_ever_offline  customer_value_total_ever_online       interested_in_categories_12\n",
       "0  cc294636-19f0-11eb-8d74-000d3a38a36f   Android App            Offline       2020-10-30      2021-02-26             2021-02-21              2021-02-26                       4.0000                        1.0000                           139.9900                          799.3800                           [KADIN]\n",
       "1  f431bd5a-ab7b-11e9-a2fc-000d3a38a36f   Android App             Mobile       2017-02-08      2021-02-16             2021-02-16              2020-01-10                      19.0000                        2.0000                           159.9700                         1853.5800  [ERKEK, COCUK, KADIN, AKTIFSPOR]\n",
       "2  69b69676-1a40-11ea-941b-000d3a38a36f   Android App        Android App       2019-11-27      2020-11-27             2020-11-27              2019-12-01                       3.0000                        2.0000                           189.9700                          395.3500                    [ERKEK, KADIN]\n",
       "3  1854e56c-491f-11eb-806e-000d3a38a36f   Android App        Android App       2021-01-06      2021-01-17             2021-01-17              2021-01-06                       1.0000                        1.0000                            39.9900                           81.9800               [AKTIFCOCUK, COCUK]\n",
       "4  d6ea1074-f1f5-11e9-9346-000d3a38a36f       Desktop            Desktop       2019-08-03      2021-03-07             2021-03-07              2019-08-03                       1.0000                        1.0000                            49.9900                          159.9900                       [AKTIFSPOR]"
      ]
     },
     "execution_count": 5,
     "metadata": {},
     "output_type": "execute_result"
    }
   ],
   "source": [
    "#The first 5 rows of the dataset were looked at.\n",
    "df.head()"
   ]
  },
  {
   "cell_type": "code",
   "execution_count": 6,
   "id": "7c69e561",
   "metadata": {
    "execution": {
     "iopub.execute_input": "2022-11-01T22:50:19.237882Z",
     "iopub.status.busy": "2022-11-01T22:50:19.237439Z",
     "iopub.status.idle": "2022-11-01T22:50:19.254966Z",
     "shell.execute_reply": "2022-11-01T22:50:19.253866Z"
    },
    "papermill": {
     "duration": 0.032269,
     "end_time": "2022-11-01T22:50:19.257375",
     "exception": false,
     "start_time": "2022-11-01T22:50:19.225106",
     "status": "completed"
    },
    "tags": []
   },
   "outputs": [
    {
     "data": {
      "text/html": [
       "<div>\n",
       "<style scoped>\n",
       "    .dataframe tbody tr th:only-of-type {\n",
       "        vertical-align: middle;\n",
       "    }\n",
       "\n",
       "    .dataframe tbody tr th {\n",
       "        vertical-align: top;\n",
       "    }\n",
       "\n",
       "    .dataframe thead th {\n",
       "        text-align: right;\n",
       "    }\n",
       "</style>\n",
       "<table border=\"1\" class=\"dataframe\">\n",
       "  <thead>\n",
       "    <tr style=\"text-align: right;\">\n",
       "      <th></th>\n",
       "      <th>master_id</th>\n",
       "      <th>order_channel</th>\n",
       "      <th>last_order_channel</th>\n",
       "      <th>first_order_date</th>\n",
       "      <th>last_order_date</th>\n",
       "      <th>last_order_date_online</th>\n",
       "      <th>last_order_date_offline</th>\n",
       "      <th>order_num_total_ever_online</th>\n",
       "      <th>order_num_total_ever_offline</th>\n",
       "      <th>customer_value_total_ever_offline</th>\n",
       "      <th>customer_value_total_ever_online</th>\n",
       "      <th>interested_in_categories_12</th>\n",
       "    </tr>\n",
       "  </thead>\n",
       "  <tbody>\n",
       "    <tr>\n",
       "      <th>19940</th>\n",
       "      <td>727e2b6e-ddd4-11e9-a848-000d3a38a36f</td>\n",
       "      <td>Android App</td>\n",
       "      <td>Offline</td>\n",
       "      <td>2019-09-21</td>\n",
       "      <td>2020-07-05</td>\n",
       "      <td>2020-06-05</td>\n",
       "      <td>2020-07-05</td>\n",
       "      <td>1.0000</td>\n",
       "      <td>2.0000</td>\n",
       "      <td>289.9800</td>\n",
       "      <td>111.9800</td>\n",
       "      <td>[ERKEK, AKTIFSPOR]</td>\n",
       "    </tr>\n",
       "    <tr>\n",
       "      <th>19941</th>\n",
       "      <td>25cd53d4-61bf-11ea-8dd8-000d3a38a36f</td>\n",
       "      <td>Desktop</td>\n",
       "      <td>Desktop</td>\n",
       "      <td>2020-03-01</td>\n",
       "      <td>2020-12-22</td>\n",
       "      <td>2020-12-22</td>\n",
       "      <td>2020-03-01</td>\n",
       "      <td>1.0000</td>\n",
       "      <td>1.0000</td>\n",
       "      <td>150.4800</td>\n",
       "      <td>239.9900</td>\n",
       "      <td>[AKTIFSPOR]</td>\n",
       "    </tr>\n",
       "    <tr>\n",
       "      <th>19942</th>\n",
       "      <td>8aea4c2a-d6fc-11e9-93bc-000d3a38a36f</td>\n",
       "      <td>Ios App</td>\n",
       "      <td>Ios App</td>\n",
       "      <td>2019-09-11</td>\n",
       "      <td>2021-05-24</td>\n",
       "      <td>2021-05-24</td>\n",
       "      <td>2019-09-11</td>\n",
       "      <td>2.0000</td>\n",
       "      <td>1.0000</td>\n",
       "      <td>139.9800</td>\n",
       "      <td>492.9600</td>\n",
       "      <td>[AKTIFSPOR]</td>\n",
       "    </tr>\n",
       "    <tr>\n",
       "      <th>19943</th>\n",
       "      <td>e50bb46c-ff30-11e9-a5e8-000d3a38a36f</td>\n",
       "      <td>Android App</td>\n",
       "      <td>Android App</td>\n",
       "      <td>2019-03-27</td>\n",
       "      <td>2021-02-13</td>\n",
       "      <td>2021-02-13</td>\n",
       "      <td>2021-01-08</td>\n",
       "      <td>1.0000</td>\n",
       "      <td>5.0000</td>\n",
       "      <td>711.7900</td>\n",
       "      <td>297.9800</td>\n",
       "      <td>[ERKEK, AKTIFSPOR]</td>\n",
       "    </tr>\n",
       "    <tr>\n",
       "      <th>19944</th>\n",
       "      <td>740998d2-b1f7-11e9-89fa-000d3a38a36f</td>\n",
       "      <td>Android App</td>\n",
       "      <td>Android App</td>\n",
       "      <td>2019-09-03</td>\n",
       "      <td>2020-06-06</td>\n",
       "      <td>2020-06-06</td>\n",
       "      <td>2019-09-03</td>\n",
       "      <td>1.0000</td>\n",
       "      <td>1.0000</td>\n",
       "      <td>39.9900</td>\n",
       "      <td>221.9800</td>\n",
       "      <td>[KADIN, AKTIFSPOR]</td>\n",
       "    </tr>\n",
       "  </tbody>\n",
       "</table>\n",
       "</div>"
      ],
      "text/plain": [
       "                                  master_id order_channel last_order_channel first_order_date last_order_date last_order_date_online last_order_date_offline  order_num_total_ever_online  order_num_total_ever_offline  customer_value_total_ever_offline  customer_value_total_ever_online interested_in_categories_12\n",
       "19940  727e2b6e-ddd4-11e9-a848-000d3a38a36f   Android App            Offline       2019-09-21      2020-07-05             2020-06-05              2020-07-05                       1.0000                        2.0000                           289.9800                          111.9800          [ERKEK, AKTIFSPOR]\n",
       "19941  25cd53d4-61bf-11ea-8dd8-000d3a38a36f       Desktop            Desktop       2020-03-01      2020-12-22             2020-12-22              2020-03-01                       1.0000                        1.0000                           150.4800                          239.9900                 [AKTIFSPOR]\n",
       "19942  8aea4c2a-d6fc-11e9-93bc-000d3a38a36f       Ios App            Ios App       2019-09-11      2021-05-24             2021-05-24              2019-09-11                       2.0000                        1.0000                           139.9800                          492.9600                 [AKTIFSPOR]\n",
       "19943  e50bb46c-ff30-11e9-a5e8-000d3a38a36f   Android App        Android App       2019-03-27      2021-02-13             2021-02-13              2021-01-08                       1.0000                        5.0000                           711.7900                          297.9800          [ERKEK, AKTIFSPOR]\n",
       "19944  740998d2-b1f7-11e9-89fa-000d3a38a36f   Android App        Android App       2019-09-03      2020-06-06             2020-06-06              2019-09-03                       1.0000                        1.0000                            39.9900                          221.9800          [KADIN, AKTIFSPOR]"
      ]
     },
     "execution_count": 6,
     "metadata": {},
     "output_type": "execute_result"
    }
   ],
   "source": [
    "#The last 5 rows of the dataset were viewed.\n",
    "df.tail()"
   ]
  },
  {
   "cell_type": "code",
   "execution_count": 7,
   "id": "370900ed",
   "metadata": {
    "execution": {
     "iopub.execute_input": "2022-11-01T22:50:19.281905Z",
     "iopub.status.busy": "2022-11-01T22:50:19.281516Z",
     "iopub.status.idle": "2022-11-01T22:50:19.313702Z",
     "shell.execute_reply": "2022-11-01T22:50:19.312025Z"
    },
    "papermill": {
     "duration": 0.047975,
     "end_time": "2022-11-01T22:50:19.316770",
     "exception": false,
     "start_time": "2022-11-01T22:50:19.268795",
     "status": "completed"
    },
    "tags": []
   },
   "outputs": [
    {
     "name": "stdout",
     "output_type": "stream",
     "text": [
      "<class 'pandas.core.frame.DataFrame'>\n",
      "RangeIndex: 19945 entries, 0 to 19944\n",
      "Data columns (total 12 columns):\n",
      " #   Column                             Non-Null Count  Dtype  \n",
      "---  ------                             --------------  -----  \n",
      " 0   master_id                          19945 non-null  object \n",
      " 1   order_channel                      19945 non-null  object \n",
      " 2   last_order_channel                 19945 non-null  object \n",
      " 3   first_order_date                   19945 non-null  object \n",
      " 4   last_order_date                    19945 non-null  object \n",
      " 5   last_order_date_online             19945 non-null  object \n",
      " 6   last_order_date_offline            19945 non-null  object \n",
      " 7   order_num_total_ever_online        19945 non-null  float64\n",
      " 8   order_num_total_ever_offline       19945 non-null  float64\n",
      " 9   customer_value_total_ever_offline  19945 non-null  float64\n",
      " 10  customer_value_total_ever_online   19945 non-null  float64\n",
      " 11  interested_in_categories_12        19945 non-null  object \n",
      "dtypes: float64(4), object(8)\n",
      "memory usage: 1.8+ MB\n"
     ]
    }
   ],
   "source": [
    "#Variable types and numbers of the data set were examined.\n",
    "df.info()"
   ]
  },
  {
   "cell_type": "code",
   "execution_count": 8,
   "id": "572e6b19",
   "metadata": {
    "execution": {
     "iopub.execute_input": "2022-11-01T22:50:19.342708Z",
     "iopub.status.busy": "2022-11-01T22:50:19.341741Z",
     "iopub.status.idle": "2022-11-01T22:50:19.358438Z",
     "shell.execute_reply": "2022-11-01T22:50:19.357321Z"
    },
    "papermill": {
     "duration": 0.031796,
     "end_time": "2022-11-01T22:50:19.360702",
     "exception": false,
     "start_time": "2022-11-01T22:50:19.328906",
     "status": "completed"
    },
    "tags": []
   },
   "outputs": [
    {
     "data": {
      "text/plain": [
       "master_id                            0\n",
       "order_channel                        0\n",
       "last_order_channel                   0\n",
       "first_order_date                     0\n",
       "last_order_date                      0\n",
       "last_order_date_online               0\n",
       "last_order_date_offline              0\n",
       "order_num_total_ever_online          0\n",
       "order_num_total_ever_offline         0\n",
       "customer_value_total_ever_offline    0\n",
       "customer_value_total_ever_online     0\n",
       "interested_in_categories_12          0\n",
       "dtype: int64"
      ]
     },
     "execution_count": 8,
     "metadata": {},
     "output_type": "execute_result"
    }
   ],
   "source": [
    "#It was checked for missing data in the dataset.\n",
    "df.isnull().sum()"
   ]
  },
  {
   "cell_type": "code",
   "execution_count": 9,
   "id": "320b7ddd",
   "metadata": {
    "execution": {
     "iopub.execute_input": "2022-11-01T22:50:19.386343Z",
     "iopub.status.busy": "2022-11-01T22:50:19.385352Z",
     "iopub.status.idle": "2022-11-01T22:50:19.417542Z",
     "shell.execute_reply": "2022-11-01T22:50:19.416332Z"
    },
    "papermill": {
     "duration": 0.047585,
     "end_time": "2022-11-01T22:50:19.419991",
     "exception": false,
     "start_time": "2022-11-01T22:50:19.372406",
     "status": "completed"
    },
    "tags": []
   },
   "outputs": [
    {
     "data": {
      "text/html": [
       "<div>\n",
       "<style scoped>\n",
       "    .dataframe tbody tr th:only-of-type {\n",
       "        vertical-align: middle;\n",
       "    }\n",
       "\n",
       "    .dataframe tbody tr th {\n",
       "        vertical-align: top;\n",
       "    }\n",
       "\n",
       "    .dataframe thead th {\n",
       "        text-align: right;\n",
       "    }\n",
       "</style>\n",
       "<table border=\"1\" class=\"dataframe\">\n",
       "  <thead>\n",
       "    <tr style=\"text-align: right;\">\n",
       "      <th></th>\n",
       "      <th>count</th>\n",
       "      <th>mean</th>\n",
       "      <th>std</th>\n",
       "      <th>min</th>\n",
       "      <th>25%</th>\n",
       "      <th>50%</th>\n",
       "      <th>75%</th>\n",
       "      <th>max</th>\n",
       "    </tr>\n",
       "  </thead>\n",
       "  <tbody>\n",
       "    <tr>\n",
       "      <th>order_num_total_ever_online</th>\n",
       "      <td>19945.0000</td>\n",
       "      <td>3.1109</td>\n",
       "      <td>4.2256</td>\n",
       "      <td>1.0000</td>\n",
       "      <td>1.0000</td>\n",
       "      <td>2.0000</td>\n",
       "      <td>4.0000</td>\n",
       "      <td>200.0000</td>\n",
       "    </tr>\n",
       "    <tr>\n",
       "      <th>order_num_total_ever_offline</th>\n",
       "      <td>19945.0000</td>\n",
       "      <td>1.9139</td>\n",
       "      <td>2.0629</td>\n",
       "      <td>1.0000</td>\n",
       "      <td>1.0000</td>\n",
       "      <td>1.0000</td>\n",
       "      <td>2.0000</td>\n",
       "      <td>109.0000</td>\n",
       "    </tr>\n",
       "    <tr>\n",
       "      <th>customer_value_total_ever_offline</th>\n",
       "      <td>19945.0000</td>\n",
       "      <td>253.9226</td>\n",
       "      <td>301.5329</td>\n",
       "      <td>10.0000</td>\n",
       "      <td>99.9900</td>\n",
       "      <td>179.9800</td>\n",
       "      <td>319.9700</td>\n",
       "      <td>18119.1400</td>\n",
       "    </tr>\n",
       "    <tr>\n",
       "      <th>customer_value_total_ever_online</th>\n",
       "      <td>19945.0000</td>\n",
       "      <td>497.3217</td>\n",
       "      <td>832.6019</td>\n",
       "      <td>12.9900</td>\n",
       "      <td>149.9800</td>\n",
       "      <td>286.4600</td>\n",
       "      <td>578.4400</td>\n",
       "      <td>45220.1300</td>\n",
       "    </tr>\n",
       "  </tbody>\n",
       "</table>\n",
       "</div>"
      ],
      "text/plain": [
       "                                       count     mean      std     min      25%      50%      75%        max\n",
       "order_num_total_ever_online       19945.0000   3.1109   4.2256  1.0000   1.0000   2.0000   4.0000   200.0000\n",
       "order_num_total_ever_offline      19945.0000   1.9139   2.0629  1.0000   1.0000   1.0000   2.0000   109.0000\n",
       "customer_value_total_ever_offline 19945.0000 253.9226 301.5329 10.0000  99.9900 179.9800 319.9700 18119.1400\n",
       "customer_value_total_ever_online  19945.0000 497.3217 832.6019 12.9900 149.9800 286.4600 578.4400 45220.1300"
      ]
     },
     "execution_count": 9,
     "metadata": {},
     "output_type": "execute_result"
    }
   ],
   "source": [
    "#The statistical properties of the columns of the data set containing numeric data were checked.\n",
    "df.describe().T"
   ]
  },
  {
   "cell_type": "code",
   "execution_count": 10,
   "id": "75233c51",
   "metadata": {
    "execution": {
     "iopub.execute_input": "2022-11-01T22:50:19.445916Z",
     "iopub.status.busy": "2022-11-01T22:50:19.445487Z",
     "iopub.status.idle": "2022-11-01T22:50:19.475907Z",
     "shell.execute_reply": "2022-11-01T22:50:19.474717Z"
    },
    "papermill": {
     "duration": 0.046699,
     "end_time": "2022-11-01T22:50:19.478743",
     "exception": false,
     "start_time": "2022-11-01T22:50:19.432044",
     "status": "completed"
    },
    "tags": []
   },
   "outputs": [
    {
     "data": {
      "text/plain": [
       "master_id                            19945\n",
       "order_channel                            4\n",
       "last_order_channel                       5\n",
       "first_order_date                      2465\n",
       "last_order_date                        366\n",
       "last_order_date_online                1743\n",
       "last_order_date_offline                738\n",
       "order_num_total_ever_online             57\n",
       "order_num_total_ever_offline            32\n",
       "customer_value_total_ever_offline     6097\n",
       "customer_value_total_ever_online     11292\n",
       "interested_in_categories_12             32\n",
       "dtype: int64"
      ]
     },
     "execution_count": 10,
     "metadata": {},
     "output_type": "execute_result"
    }
   ],
   "source": [
    "#The number of unique values for each variable in the dataset was looked at.\n",
    "df.nunique()"
   ]
  },
  {
   "cell_type": "markdown",
   "id": "8674e1b2",
   "metadata": {
    "papermill": {
     "duration": 0.011616,
     "end_time": "2022-11-01T22:50:19.503189",
     "exception": false,
     "start_time": "2022-11-01T22:50:19.491573",
     "status": "completed"
    },
    "tags": []
   },
   "source": [
    "## Data Manipulation"
   ]
  },
  {
   "cell_type": "code",
   "execution_count": 11,
   "id": "5eb32466",
   "metadata": {
    "execution": {
     "iopub.execute_input": "2022-11-01T22:50:19.528812Z",
     "iopub.status.busy": "2022-11-01T22:50:19.528387Z",
     "iopub.status.idle": "2022-11-01T22:50:19.572973Z",
     "shell.execute_reply": "2022-11-01T22:50:19.571698Z"
    },
    "papermill": {
     "duration": 0.06058,
     "end_time": "2022-11-01T22:50:19.575796",
     "exception": false,
     "start_time": "2022-11-01T22:50:19.515216",
     "status": "completed"
    },
    "tags": []
   },
   "outputs": [
    {
     "data": {
      "text/plain": [
       "master_id                                    object\n",
       "order_channel                                object\n",
       "last_order_channel                           object\n",
       "first_order_date                     datetime64[ns]\n",
       "last_order_date                      datetime64[ns]\n",
       "last_order_date_online               datetime64[ns]\n",
       "last_order_date_offline              datetime64[ns]\n",
       "order_num_total_ever_online                 float64\n",
       "order_num_total_ever_offline                float64\n",
       "customer_value_total_ever_offline           float64\n",
       "customer_value_total_ever_online            float64\n",
       "interested_in_categories_12                  object\n",
       "dtype: object"
      ]
     },
     "execution_count": 11,
     "metadata": {},
     "output_type": "execute_result"
    }
   ],
   "source": [
    "##The data types of the date variables are changed with datetime module to be able to use them in date calculations.\n",
    "convert_date = df.columns[df.columns.str.contains(\"date\")]\n",
    "\n",
    "df[convert_date] = df[convert_date].apply(pd.to_datetime)\n",
    "df.dtypes"
   ]
  },
  {
   "cell_type": "code",
   "execution_count": 12,
   "id": "e411d770",
   "metadata": {
    "execution": {
     "iopub.execute_input": "2022-11-01T22:50:19.601884Z",
     "iopub.status.busy": "2022-11-01T22:50:19.601486Z",
     "iopub.status.idle": "2022-11-01T22:50:19.606350Z",
     "shell.execute_reply": "2022-11-01T22:50:19.605114Z"
    },
    "papermill": {
     "duration": 0.020807,
     "end_time": "2022-11-01T22:50:19.608892",
     "exception": false,
     "start_time": "2022-11-01T22:50:19.588085",
     "status": "completed"
    },
    "tags": []
   },
   "outputs": [],
   "source": [
    "#the names of the numeric columns were put into a list.\n",
    "columns = [\"order_num_total_ever_online\", \"order_num_total_ever_offline\", \"customer_value_total_ever_offline\",\"customer_value_total_ever_online\"]"
   ]
  },
  {
   "cell_type": "code",
   "execution_count": 13,
   "id": "1433ef15",
   "metadata": {
    "execution": {
     "iopub.execute_input": "2022-11-01T22:50:19.635867Z",
     "iopub.status.busy": "2022-11-01T22:50:19.635473Z",
     "iopub.status.idle": "2022-11-01T22:50:20.002006Z",
     "shell.execute_reply": "2022-11-01T22:50:20.000821Z"
    },
    "papermill": {
     "duration": 0.38348,
     "end_time": "2022-11-01T22:50:20.004523",
     "exception": false,
     "start_time": "2022-11-01T22:50:19.621043",
     "status": "completed"
    },
    "tags": []
   },
   "outputs": [
    {
     "data": {
      "text/plain": [
       "<AxesSubplot:>"
      ]
     },
     "execution_count": 13,
     "metadata": {},
     "output_type": "execute_result"
    },
    {
     "data": {
      "image/png": "[encoded data removed]",
      "text/plain": [
       "<Figure size 720x720 with 1 Axes>"
      ]
     },
     "metadata": {
      "needs_background": "light"
     },
     "output_type": "display_data"
    }
   ],
   "source": [
    "#Checked for outliers.\n",
    "df.boxplot(column= columns,grid=False, rot=45,figsize = (10,10), fontsize=8) "
   ]
  },
  {
   "cell_type": "code",
   "execution_count": 14,
   "id": "b487c8d7",
   "metadata": {
    "execution": {
     "iopub.execute_input": "2022-11-01T22:50:20.033123Z",
     "iopub.status.busy": "2022-11-01T22:50:20.031789Z",
     "iopub.status.idle": "2022-11-01T22:50:20.039697Z",
     "shell.execute_reply": "2022-11-01T22:50:20.038455Z"
    },
    "papermill": {
     "duration": 0.025378,
     "end_time": "2022-11-01T22:50:20.042520",
     "exception": false,
     "start_time": "2022-11-01T22:50:20.017142",
     "status": "completed"
    },
    "tags": []
   },
   "outputs": [],
   "source": [
    " \"\"\"\n",
    "    Defines upper and lower limits to investigate outlying values. \n",
    "    The limits are defined by adding and subtracting 1.5 interquantile \n",
    "    range values respectively to 3rd quartile and 1st quartile.\n",
    "    \n",
    "    Parameters\n",
    "    ----------\n",
    "    dataframe : dataframe\n",
    "        The dataframe to be used.\n",
    "    variable : dataframe variable\n",
    "        The variable whose limits are intended to be calculated.\n",
    "    \n",
    "    Returns\n",
    "    -------\n",
    "    low_limit: Lower limit for outlier check.\n",
    "    upper_limit: Upper limit for outlier check.   \n",
    "    \"\"\"\n",
    "def outlier_thresholds(dataframe, variable):\n",
    "    quartile1 = dataframe[variable].quantile(0.01)\n",
    "    quartile3 = dataframe[variable].quantile(0.99)\n",
    "    interquantile_range = quartile3 - quartile1\n",
    "    up_limit = quartile3 + 1.5 * interquantile_range\n",
    "    low_limit = quartile1 - 1.5 * interquantile_range\n",
    "    return low_limit, up_limit"
   ]
  },
  {
   "cell_type": "code",
   "execution_count": 15,
   "id": "c1765793",
   "metadata": {
    "execution": {
     "iopub.execute_input": "2022-11-01T22:50:20.069518Z",
     "iopub.status.busy": "2022-11-01T22:50:20.069077Z",
     "iopub.status.idle": "2022-11-01T22:50:20.075339Z",
     "shell.execute_reply": "2022-11-01T22:50:20.074511Z"
    },
    "papermill": {
     "duration": 0.022393,
     "end_time": "2022-11-01T22:50:20.077566",
     "exception": false,
     "start_time": "2022-11-01T22:50:20.055173",
     "status": "completed"
    },
    "tags": []
   },
   "outputs": [],
   "source": [
    "\"\"\"\n",
    "       Replaces the outlying values lower than low_limit and higher than\n",
    "       up_limit variables which are defined by outlier_threshold function.\n",
    "\n",
    "       Parameters\n",
    "       ----------\n",
    "       dataframe : dataframe\n",
    "           The dataframe to be used.\n",
    "       variable : dataframe variable\n",
    "           The variable whose limits are intended to be implemented.\n",
    "       \"\"\"\n",
    "def replace_with_thresholds(dataframe, variable):\n",
    "    low_limit, up_limit = outlier_thresholds(dataframe, variable)\n",
    "    dataframe.loc[(dataframe[variable] < low_limit), variable] = round(low_limit,0)\n",
    "    dataframe.loc[(dataframe[variable] > up_limit), variable] = round(up_limit,0)"
   ]
  },
  {
   "cell_type": "code",
   "execution_count": 16,
   "id": "05117f64",
   "metadata": {
    "execution": {
     "iopub.execute_input": "2022-11-01T22:50:20.105628Z",
     "iopub.status.busy": "2022-11-01T22:50:20.104539Z",
     "iopub.status.idle": "2022-11-01T22:50:20.111816Z",
     "shell.execute_reply": "2022-11-01T22:50:20.110549Z"
    },
    "papermill": {
     "duration": 0.023887,
     "end_time": "2022-11-01T22:50:20.114141",
     "exception": false,
     "start_time": "2022-11-01T22:50:20.090254",
     "status": "completed"
    },
    "tags": []
   },
   "outputs": [],
   "source": [
    "\"\"\"\n",
    "     Checks if the dataframe variable has any values higher \n",
    "     than upper limit and lower than lower limit\n",
    "\n",
    "       Parameters\n",
    "       ----------\n",
    "       dataframe : dataframe\n",
    "           The dataframe to be used.\n",
    "       col_name : dataframe variable\n",
    "           The variable whose values are compared to limits.\n",
    "\"\"\"\n",
    "def check_outlier(dataframe, col_name):\n",
    "    low_limit , up_limit = outlier_thresholds(dataframe, col_name)\n",
    "    \n",
    "    if dataframe[(dataframe[col_name] > up_limit) | (dataframe[col_name] < low_limit)].any(axis=None):\n",
    "        \n",
    "        print(f\"{col_name}: Lower limit = {low_limit}, Upper limit = {up_limit}\")\n",
    "        return True\n",
    "    else:\n",
    "        \n",
    "        print(f\"{col_name}: Lower limit = {low_limit}, Upper limit = {up_limit}\")\n",
    "        return False"
   ]
  },
  {
   "cell_type": "code",
   "execution_count": 17,
   "id": "d744aa29",
   "metadata": {
    "execution": {
     "iopub.execute_input": "2022-11-01T22:50:20.141336Z",
     "iopub.status.busy": "2022-11-01T22:50:20.140930Z",
     "iopub.status.idle": "2022-11-01T22:50:20.179664Z",
     "shell.execute_reply": "2022-11-01T22:50:20.178222Z"
    },
    "papermill": {
     "duration": 0.055508,
     "end_time": "2022-11-01T22:50:20.182504",
     "exception": false,
     "start_time": "2022-11-01T22:50:20.126996",
     "status": "completed"
    },
    "tags": []
   },
   "outputs": [
    {
     "name": "stdout",
     "output_type": "stream",
     "text": [
      "order_num_total_ever_online: Lower limit = -27.5, Upper limit = 48.5\n",
      "Any outliers: True\n",
      "order_num_total_ever_offline: Lower limit = -8.0, Upper limit = 16.0\n",
      "Any outliers: True\n",
      "customer_value_total_ever_offline: Lower limit = -1779.9452000000003, Upper limit = 3019.8820000000005\n",
      "Any outliers: True\n",
      "customer_value_total_ever_online: Lower limit = -4615.7406000000055, Upper limit = 7799.541000000008\n",
      "Any outliers: True\n"
     ]
    }
   ],
   "source": [
    "#outliers were suppressed.\n",
    "for col in columns:\n",
    "    print(f\"Any outliers: {check_outlier(df,col)}\")\n",
    "    replace_with_thresholds(df, col)"
   ]
  },
  {
   "cell_type": "code",
   "execution_count": 18,
   "id": "758138ae",
   "metadata": {
    "execution": {
     "iopub.execute_input": "2022-11-01T22:50:20.209695Z",
     "iopub.status.busy": "2022-11-01T22:50:20.209306Z",
     "iopub.status.idle": "2022-11-01T22:50:20.231188Z",
     "shell.execute_reply": "2022-11-01T22:50:20.229983Z"
    },
    "papermill": {
     "duration": 0.038041,
     "end_time": "2022-11-01T22:50:20.233287",
     "exception": false,
     "start_time": "2022-11-01T22:50:20.195246",
     "status": "completed"
    },
    "tags": []
   },
   "outputs": [
    {
     "data": {
      "text/html": [
       "<div>\n",
       "<style scoped>\n",
       "    .dataframe tbody tr th:only-of-type {\n",
       "        vertical-align: middle;\n",
       "    }\n",
       "\n",
       "    .dataframe tbody tr th {\n",
       "        vertical-align: top;\n",
       "    }\n",
       "\n",
       "    .dataframe thead th {\n",
       "        text-align: right;\n",
       "    }\n",
       "</style>\n",
       "<table border=\"1\" class=\"dataframe\">\n",
       "  <thead>\n",
       "    <tr style=\"text-align: right;\">\n",
       "      <th></th>\n",
       "      <th>master_id</th>\n",
       "      <th>order_channel</th>\n",
       "      <th>last_order_channel</th>\n",
       "      <th>first_order_date</th>\n",
       "      <th>last_order_date</th>\n",
       "      <th>last_order_date_online</th>\n",
       "      <th>last_order_date_offline</th>\n",
       "      <th>order_num_total_ever_online</th>\n",
       "      <th>order_num_total_ever_offline</th>\n",
       "      <th>customer_value_total_ever_offline</th>\n",
       "      <th>customer_value_total_ever_online</th>\n",
       "      <th>interested_in_categories_12</th>\n",
       "      <th>total_order_num</th>\n",
       "      <th>total_price</th>\n",
       "    </tr>\n",
       "  </thead>\n",
       "  <tbody>\n",
       "    <tr>\n",
       "      <th>0</th>\n",
       "      <td>cc294636-19f0-11eb-8d74-000d3a38a36f</td>\n",
       "      <td>Android App</td>\n",
       "      <td>Offline</td>\n",
       "      <td>2020-10-30</td>\n",
       "      <td>2021-02-26</td>\n",
       "      <td>2021-02-21</td>\n",
       "      <td>2021-02-26</td>\n",
       "      <td>4.0000</td>\n",
       "      <td>1.0000</td>\n",
       "      <td>139.9900</td>\n",
       "      <td>799.3800</td>\n",
       "      <td>[KADIN]</td>\n",
       "      <td>5.0000</td>\n",
       "      <td>939.3700</td>\n",
       "    </tr>\n",
       "    <tr>\n",
       "      <th>1</th>\n",
       "      <td>f431bd5a-ab7b-11e9-a2fc-000d3a38a36f</td>\n",
       "      <td>Android App</td>\n",
       "      <td>Mobile</td>\n",
       "      <td>2017-02-08</td>\n",
       "      <td>2021-02-16</td>\n",
       "      <td>2021-02-16</td>\n",
       "      <td>2020-01-10</td>\n",
       "      <td>19.0000</td>\n",
       "      <td>2.0000</td>\n",
       "      <td>159.9700</td>\n",
       "      <td>1853.5800</td>\n",
       "      <td>[ERKEK, COCUK, KADIN, AKTIFSPOR]</td>\n",
       "      <td>21.0000</td>\n",
       "      <td>2013.5500</td>\n",
       "    </tr>\n",
       "    <tr>\n",
       "      <th>2</th>\n",
       "      <td>69b69676-1a40-11ea-941b-000d3a38a36f</td>\n",
       "      <td>Android App</td>\n",
       "      <td>Android App</td>\n",
       "      <td>2019-11-27</td>\n",
       "      <td>2020-11-27</td>\n",
       "      <td>2020-11-27</td>\n",
       "      <td>2019-12-01</td>\n",
       "      <td>3.0000</td>\n",
       "      <td>2.0000</td>\n",
       "      <td>189.9700</td>\n",
       "      <td>395.3500</td>\n",
       "      <td>[ERKEK, KADIN]</td>\n",
       "      <td>5.0000</td>\n",
       "      <td>585.3200</td>\n",
       "    </tr>\n",
       "    <tr>\n",
       "      <th>3</th>\n",
       "      <td>1854e56c-491f-11eb-806e-000d3a38a36f</td>\n",
       "      <td>Android App</td>\n",
       "      <td>Android App</td>\n",
       "      <td>2021-01-06</td>\n",
       "      <td>2021-01-17</td>\n",
       "      <td>2021-01-17</td>\n",
       "      <td>2021-01-06</td>\n",
       "      <td>1.0000</td>\n",
       "      <td>1.0000</td>\n",
       "      <td>39.9900</td>\n",
       "      <td>81.9800</td>\n",
       "      <td>[AKTIFCOCUK, COCUK]</td>\n",
       "      <td>2.0000</td>\n",
       "      <td>121.9700</td>\n",
       "    </tr>\n",
       "    <tr>\n",
       "      <th>4</th>\n",
       "      <td>d6ea1074-f1f5-11e9-9346-000d3a38a36f</td>\n",
       "      <td>Desktop</td>\n",
       "      <td>Desktop</td>\n",
       "      <td>2019-08-03</td>\n",
       "      <td>2021-03-07</td>\n",
       "      <td>2021-03-07</td>\n",
       "      <td>2019-08-03</td>\n",
       "      <td>1.0000</td>\n",
       "      <td>1.0000</td>\n",
       "      <td>49.9900</td>\n",
       "      <td>159.9900</td>\n",
       "      <td>[AKTIFSPOR]</td>\n",
       "      <td>2.0000</td>\n",
       "      <td>209.9800</td>\n",
       "    </tr>\n",
       "  </tbody>\n",
       "</table>\n",
       "</div>"
      ],
      "text/plain": [
       "                              master_id order_channel last_order_channel first_order_date last_order_date last_order_date_online last_order_date_offline  order_num_total_ever_online  order_num_total_ever_offline  customer_value_total_ever_offline  customer_value_total_ever_online       interested_in_categories_12  total_order_num  total_price\n",
       "0  cc294636-19f0-11eb-8d74-000d3a38a36f   Android App            Offline       2020-10-30      2021-02-26             2021-02-21              2021-02-26                       4.0000                        1.0000                           139.9900                          799.3800                           [KADIN]           5.0000     939.3700\n",
       "1  f431bd5a-ab7b-11e9-a2fc-000d3a38a36f   Android App             Mobile       2017-02-08      2021-02-16             2021-02-16              2020-01-10                      19.0000                        2.0000                           159.9700                         1853.5800  [ERKEK, COCUK, KADIN, AKTIFSPOR]          21.0000    2013.5500\n",
       "2  69b69676-1a40-11ea-941b-000d3a38a36f   Android App        Android App       2019-11-27      2020-11-27             2020-11-27              2019-12-01                       3.0000                        2.0000                           189.9700                          395.3500                    [ERKEK, KADIN]           5.0000     585.3200\n",
       "3  1854e56c-491f-11eb-806e-000d3a38a36f   Android App        Android App       2021-01-06      2021-01-17             2021-01-17              2021-01-06                       1.0000                        1.0000                            39.9900                           81.9800               [AKTIFCOCUK, COCUK]           2.0000     121.9700\n",
       "4  d6ea1074-f1f5-11e9-9346-000d3a38a36f       Desktop            Desktop       2019-08-03      2021-03-07             2021-03-07              2019-08-03                       1.0000                        1.0000                            49.9900                          159.9900                       [AKTIFSPOR]           2.0000     209.9800"
      ]
     },
     "execution_count": 18,
     "metadata": {},
     "output_type": "execute_result"
    }
   ],
   "source": [
    "\"\"\"\n",
    "Omnichannel means that customers shop from both online and offline platforms. \n",
    "New variables were created for the total number of purchases and spending of each customer.\n",
    "\"\"\"\n",
    "df[\"total_order_num\"] = df[\"order_num_total_ever_online\"] + df[\"order_num_total_ever_offline\"]\n",
    "df[\"total_price\"] = df[\"customer_value_total_ever_offline\"] + df[\"customer_value_total_ever_online\"]\n",
    "df.head()"
   ]
  },
  {
   "cell_type": "code",
   "execution_count": 19,
   "id": "a3067659",
   "metadata": {
    "execution": {
     "iopub.execute_input": "2022-11-01T22:50:20.261806Z",
     "iopub.status.busy": "2022-11-01T22:50:20.260817Z",
     "iopub.status.idle": "2022-11-01T22:50:20.267587Z",
     "shell.execute_reply": "2022-11-01T22:50:20.266458Z"
    },
    "papermill": {
     "duration": 0.023379,
     "end_time": "2022-11-01T22:50:20.269895",
     "exception": false,
     "start_time": "2022-11-01T22:50:20.246516",
     "status": "completed"
    },
    "tags": []
   },
   "outputs": [
    {
     "name": "stdout",
     "output_type": "stream",
     "text": [
      "2021-05-30 00:00:00\n"
     ]
    }
   ],
   "source": [
    "#For time analysis purposes, an analysis date is defined which is 2 days later than the last transaction.\n",
    "print(df[\"last_order_date\"].max())\n",
    "today_date=dt.datetime(2021,6,1)"
   ]
  },
  {
   "cell_type": "code",
   "execution_count": 20,
   "id": "7e68020d",
   "metadata": {
    "execution": {
     "iopub.execute_input": "2022-11-01T22:50:20.298233Z",
     "iopub.status.busy": "2022-11-01T22:50:20.297232Z",
     "iopub.status.idle": "2022-11-01T22:50:20.320473Z",
     "shell.execute_reply": "2022-11-01T22:50:20.319223Z"
    },
    "papermill": {
     "duration": 0.040036,
     "end_time": "2022-11-01T22:50:20.322943",
     "exception": false,
     "start_time": "2022-11-01T22:50:20.282907",
     "status": "completed"
    },
    "tags": []
   },
   "outputs": [
    {
     "data": {
      "text/html": [
       "<div>\n",
       "<style scoped>\n",
       "    .dataframe tbody tr th:only-of-type {\n",
       "        vertical-align: middle;\n",
       "    }\n",
       "\n",
       "    .dataframe tbody tr th {\n",
       "        vertical-align: top;\n",
       "    }\n",
       "\n",
       "    .dataframe thead th {\n",
       "        text-align: right;\n",
       "    }\n",
       "</style>\n",
       "<table border=\"1\" class=\"dataframe\">\n",
       "  <thead>\n",
       "    <tr style=\"text-align: right;\">\n",
       "      <th></th>\n",
       "      <th>customer_id</th>\n",
       "      <th>recency</th>\n",
       "      <th>T</th>\n",
       "      <th>frequency</th>\n",
       "      <th>monetary</th>\n",
       "    </tr>\n",
       "  </thead>\n",
       "  <tbody>\n",
       "    <tr>\n",
       "      <th>0</th>\n",
       "      <td>cc294636-19f0-11eb-8d74-000d3a38a36f</td>\n",
       "      <td>17.0000</td>\n",
       "      <td>30.5714</td>\n",
       "      <td>5.0000</td>\n",
       "      <td>187.8740</td>\n",
       "    </tr>\n",
       "    <tr>\n",
       "      <th>1</th>\n",
       "      <td>f431bd5a-ab7b-11e9-a2fc-000d3a38a36f</td>\n",
       "      <td>209.8571</td>\n",
       "      <td>224.8571</td>\n",
       "      <td>21.0000</td>\n",
       "      <td>95.8833</td>\n",
       "    </tr>\n",
       "    <tr>\n",
       "      <th>2</th>\n",
       "      <td>69b69676-1a40-11ea-941b-000d3a38a36f</td>\n",
       "      <td>52.2857</td>\n",
       "      <td>78.8571</td>\n",
       "      <td>5.0000</td>\n",
       "      <td>117.0640</td>\n",
       "    </tr>\n",
       "    <tr>\n",
       "      <th>3</th>\n",
       "      <td>1854e56c-491f-11eb-806e-000d3a38a36f</td>\n",
       "      <td>1.5714</td>\n",
       "      <td>20.8571</td>\n",
       "      <td>2.0000</td>\n",
       "      <td>60.9850</td>\n",
       "    </tr>\n",
       "    <tr>\n",
       "      <th>4</th>\n",
       "      <td>d6ea1074-f1f5-11e9-9346-000d3a38a36f</td>\n",
       "      <td>83.1429</td>\n",
       "      <td>95.4286</td>\n",
       "      <td>2.0000</td>\n",
       "      <td>104.9900</td>\n",
       "    </tr>\n",
       "  </tbody>\n",
       "</table>\n",
       "</div>"
      ],
      "text/plain": [
       "                            customer_id  recency        T  frequency  monetary\n",
       "0  cc294636-19f0-11eb-8d74-000d3a38a36f  17.0000  30.5714     5.0000  187.8740\n",
       "1  f431bd5a-ab7b-11e9-a2fc-000d3a38a36f 209.8571 224.8571    21.0000   95.8833\n",
       "2  69b69676-1a40-11ea-941b-000d3a38a36f  52.2857  78.8571     5.0000  117.0640\n",
       "3  1854e56c-491f-11eb-806e-000d3a38a36f   1.5714  20.8571     2.0000   60.9850\n",
       "4  d6ea1074-f1f5-11e9-9346-000d3a38a36f  83.1429  95.4286     2.0000  104.9900"
      ]
     },
     "execution_count": 20,
     "metadata": {},
     "output_type": "execute_result"
    }
   ],
   "source": [
    "#CLTV dataframe is formed by customer ids, weekly recency, weekly tenure, frequency and average monetary.\n",
    "cltv = pd.DataFrame()\n",
    "cltv[\"customer_id\"] = df[\"master_id\"]\n",
    "cltv[\"recency\"] = (df[\"last_order_date\"]- df[\"first_order_date\"])/ dt.timedelta(weeks=1)\n",
    "cltv[\"T\"] = ((today_date - df[\"first_order_date\"]).dt.days)/7\n",
    "cltv[\"frequency\"] = df[\"total_order_num\"]\n",
    "cltv[\"monetary\"] = df[\"total_price\"] / df[\"total_order_num\"]\n",
    "cltv.head()"
   ]
  },
  {
   "cell_type": "markdown",
   "id": "11145612",
   "metadata": {
    "papermill": {
     "duration": 0.014242,
     "end_time": "2022-11-01T22:50:20.350896",
     "exception": false,
     "start_time": "2022-11-01T22:50:20.336654",
     "status": "completed"
    },
    "tags": []
   },
   "source": [
    "# CLTV Prediction"
   ]
  },
  {
   "cell_type": "markdown",
   "id": "9483fde4",
   "metadata": {
    "papermill": {
     "duration": 0.012947,
     "end_time": "2022-11-01T22:50:20.377467",
     "exception": false,
     "start_time": "2022-11-01T22:50:20.364520",
     "status": "completed"
    },
    "tags": []
   },
   "source": [
    "## BG-NBD "
   ]
  },
  {
   "cell_type": "code",
   "execution_count": 21,
   "id": "d657fa79",
   "metadata": {
    "execution": {
     "iopub.execute_input": "2022-11-01T22:50:20.405903Z",
     "iopub.status.busy": "2022-11-01T22:50:20.405499Z",
     "iopub.status.idle": "2022-11-01T22:50:21.011980Z",
     "shell.execute_reply": "2022-11-01T22:50:21.010697Z"
    },
    "papermill": {
     "duration": 0.624737,
     "end_time": "2022-11-01T22:50:21.015460",
     "exception": false,
     "start_time": "2022-11-01T22:50:20.390723",
     "status": "completed"
    },
    "tags": []
   },
   "outputs": [
    {
     "data": {
      "text/plain": [
       "<lifetimes.BetaGeoFitter: fitted with 19945 subjects, a: 0.00, alpha: 76.17, b: 0.00, r: 3.66>"
      ]
     },
     "execution_count": 21,
     "metadata": {},
     "output_type": "execute_result"
    }
   ],
   "source": [
    "#BG/NBD model is prepared and parameters are obtained\n",
    "bgf = BetaGeoFitter(penalizer_coef=0.001)\n",
    "bgf.fit(cltv['frequency'],\n",
    "        cltv['recency'],\n",
    "        cltv['T'])"
   ]
  },
  {
   "cell_type": "code",
   "execution_count": 22,
   "id": "901df90a",
   "metadata": {
    "execution": {
     "iopub.execute_input": "2022-11-01T22:50:21.061393Z",
     "iopub.status.busy": "2022-11-01T22:50:21.060813Z",
     "iopub.status.idle": "2022-11-01T22:50:21.094175Z",
     "shell.execute_reply": "2022-11-01T22:50:21.092860Z"
    },
    "papermill": {
     "duration": 0.060243,
     "end_time": "2022-11-01T22:50:21.097669",
     "exception": false,
     "start_time": "2022-11-01T22:50:21.037426",
     "status": "completed"
    },
    "tags": []
   },
   "outputs": [],
   "source": [
    "#Expected sale values of customers are calculated for following 3 month interval.\n",
    "cltv[\"exp_sales_3_month\"] = bgf.predict(12,\n",
    "                                       cltv['frequency'],\n",
    "                                       cltv['recency'],\n",
    "                                       cltv['T'])"
   ]
  },
  {
   "cell_type": "code",
   "execution_count": 23,
   "id": "bde0bc4f",
   "metadata": {
    "execution": {
     "iopub.execute_input": "2022-11-01T22:50:21.136634Z",
     "iopub.status.busy": "2022-11-01T22:50:21.136217Z",
     "iopub.status.idle": "2022-11-01T22:50:21.158373Z",
     "shell.execute_reply": "2022-11-01T22:50:21.157167Z"
    },
    "papermill": {
     "duration": 0.041711,
     "end_time": "2022-11-01T22:50:21.161247",
     "exception": false,
     "start_time": "2022-11-01T22:50:21.119536",
     "status": "completed"
    },
    "tags": []
   },
   "outputs": [],
   "source": [
    "#Expected sale values of customers are calculated for following 6 month interval.\n",
    "cltv[\"exp_sales_6_month\"] = bgf.predict(24,\n",
    "                                       cltv['frequency'],\n",
    "                                       cltv['recency'],\n",
    "                                       cltv['T'])"
   ]
  },
  {
   "cell_type": "code",
   "execution_count": 24,
   "id": "d90e6499",
   "metadata": {
    "execution": {
     "iopub.execute_input": "2022-11-01T22:50:21.190764Z",
     "iopub.status.busy": "2022-11-01T22:50:21.189607Z",
     "iopub.status.idle": "2022-11-01T22:50:21.202234Z",
     "shell.execute_reply": "2022-11-01T22:50:21.201076Z"
    },
    "papermill": {
     "duration": 0.029765,
     "end_time": "2022-11-01T22:50:21.204458",
     "exception": false,
     "start_time": "2022-11-01T22:50:21.174693",
     "status": "completed"
    },
    "tags": []
   },
   "outputs": [
    {
     "data": {
      "text/html": [
       "<div>\n",
       "<style scoped>\n",
       "    .dataframe tbody tr th:only-of-type {\n",
       "        vertical-align: middle;\n",
       "    }\n",
       "\n",
       "    .dataframe tbody tr th {\n",
       "        vertical-align: top;\n",
       "    }\n",
       "\n",
       "    .dataframe thead th {\n",
       "        text-align: right;\n",
       "    }\n",
       "</style>\n",
       "<table border=\"1\" class=\"dataframe\">\n",
       "  <thead>\n",
       "    <tr style=\"text-align: right;\">\n",
       "      <th></th>\n",
       "      <th>customer_id</th>\n",
       "      <th>recency</th>\n",
       "      <th>T</th>\n",
       "      <th>frequency</th>\n",
       "      <th>monetary</th>\n",
       "      <th>exp_sales_3_month</th>\n",
       "      <th>exp_sales_6_month</th>\n",
       "    </tr>\n",
       "  </thead>\n",
       "  <tbody>\n",
       "    <tr>\n",
       "      <th>0</th>\n",
       "      <td>cc294636-19f0-11eb-8d74-000d3a38a36f</td>\n",
       "      <td>17.0000</td>\n",
       "      <td>30.5714</td>\n",
       "      <td>5.0000</td>\n",
       "      <td>187.8740</td>\n",
       "      <td>0.9739</td>\n",
       "      <td>1.9479</td>\n",
       "    </tr>\n",
       "    <tr>\n",
       "      <th>1</th>\n",
       "      <td>f431bd5a-ab7b-11e9-a2fc-000d3a38a36f</td>\n",
       "      <td>209.8571</td>\n",
       "      <td>224.8571</td>\n",
       "      <td>21.0000</td>\n",
       "      <td>95.8833</td>\n",
       "      <td>0.9832</td>\n",
       "      <td>1.9663</td>\n",
       "    </tr>\n",
       "    <tr>\n",
       "      <th>2</th>\n",
       "      <td>69b69676-1a40-11ea-941b-000d3a38a36f</td>\n",
       "      <td>52.2857</td>\n",
       "      <td>78.8571</td>\n",
       "      <td>5.0000</td>\n",
       "      <td>117.0640</td>\n",
       "      <td>0.6706</td>\n",
       "      <td>1.3412</td>\n",
       "    </tr>\n",
       "    <tr>\n",
       "      <th>3</th>\n",
       "      <td>1854e56c-491f-11eb-806e-000d3a38a36f</td>\n",
       "      <td>1.5714</td>\n",
       "      <td>20.8571</td>\n",
       "      <td>2.0000</td>\n",
       "      <td>60.9850</td>\n",
       "      <td>0.7004</td>\n",
       "      <td>1.4008</td>\n",
       "    </tr>\n",
       "    <tr>\n",
       "      <th>4</th>\n",
       "      <td>d6ea1074-f1f5-11e9-9346-000d3a38a36f</td>\n",
       "      <td>83.1429</td>\n",
       "      <td>95.4286</td>\n",
       "      <td>2.0000</td>\n",
       "      <td>104.9900</td>\n",
       "      <td>0.3960</td>\n",
       "      <td>0.7921</td>\n",
       "    </tr>\n",
       "  </tbody>\n",
       "</table>\n",
       "</div>"
      ],
      "text/plain": [
       "                            customer_id  recency        T  frequency  monetary  exp_sales_3_month  exp_sales_6_month\n",
       "0  cc294636-19f0-11eb-8d74-000d3a38a36f  17.0000  30.5714     5.0000  187.8740             0.9739             1.9479\n",
       "1  f431bd5a-ab7b-11e9-a2fc-000d3a38a36f 209.8571 224.8571    21.0000   95.8833             0.9832             1.9663\n",
       "2  69b69676-1a40-11ea-941b-000d3a38a36f  52.2857  78.8571     5.0000  117.0640             0.6706             1.3412\n",
       "3  1854e56c-491f-11eb-806e-000d3a38a36f   1.5714  20.8571     2.0000   60.9850             0.7004             1.4008\n",
       "4  d6ea1074-f1f5-11e9-9346-000d3a38a36f  83.1429  95.4286     2.0000  104.9900             0.3960             0.7921"
      ]
     },
     "execution_count": 24,
     "metadata": {},
     "output_type": "execute_result"
    }
   ],
   "source": [
    "cltv.head()"
   ]
  },
  {
   "cell_type": "code",
   "execution_count": 25,
   "id": "28fcbf37",
   "metadata": {
    "execution": {
     "iopub.execute_input": "2022-11-01T22:50:21.234055Z",
     "iopub.status.busy": "2022-11-01T22:50:21.233123Z",
     "iopub.status.idle": "2022-11-01T22:50:21.252151Z",
     "shell.execute_reply": "2022-11-01T22:50:21.250773Z"
    },
    "papermill": {
     "duration": 0.036322,
     "end_time": "2022-11-01T22:50:21.254557",
     "exception": false,
     "start_time": "2022-11-01T22:50:21.218235",
     "status": "completed"
    },
    "tags": []
   },
   "outputs": [
    {
     "data": {
      "text/html": [
       "<div>\n",
       "<style scoped>\n",
       "    .dataframe tbody tr th:only-of-type {\n",
       "        vertical-align: middle;\n",
       "    }\n",
       "\n",
       "    .dataframe tbody tr th {\n",
       "        vertical-align: top;\n",
       "    }\n",
       "\n",
       "    .dataframe thead th {\n",
       "        text-align: right;\n",
       "    }\n",
       "</style>\n",
       "<table border=\"1\" class=\"dataframe\">\n",
       "  <thead>\n",
       "    <tr style=\"text-align: right;\">\n",
       "      <th></th>\n",
       "      <th>customer_id</th>\n",
       "      <th>recency</th>\n",
       "      <th>T</th>\n",
       "      <th>frequency</th>\n",
       "      <th>monetary</th>\n",
       "      <th>exp_sales_3_month</th>\n",
       "      <th>exp_sales_6_month</th>\n",
       "    </tr>\n",
       "  </thead>\n",
       "  <tbody>\n",
       "    <tr>\n",
       "      <th>7330</th>\n",
       "      <td>a4d534a2-5b1b-11eb-8dbd-000d3a38a36f</td>\n",
       "      <td>62.7143</td>\n",
       "      <td>67.2857</td>\n",
       "      <td>52.0000</td>\n",
       "      <td>166.2246</td>\n",
       "      <td>4.6561</td>\n",
       "      <td>9.3123</td>\n",
       "    </tr>\n",
       "    <tr>\n",
       "      <th>15611</th>\n",
       "      <td>4a7e875e-e6ce-11ea-8f44-000d3a38a36f</td>\n",
       "      <td>39.7143</td>\n",
       "      <td>40.0000</td>\n",
       "      <td>29.0000</td>\n",
       "      <td>165.2976</td>\n",
       "      <td>3.3740</td>\n",
       "      <td>6.7479</td>\n",
       "    </tr>\n",
       "    <tr>\n",
       "      <th>8328</th>\n",
       "      <td>1902bf80-0035-11eb-8341-000d3a38a36f</td>\n",
       "      <td>28.8571</td>\n",
       "      <td>33.2857</td>\n",
       "      <td>25.0000</td>\n",
       "      <td>97.4396</td>\n",
       "      <td>3.1424</td>\n",
       "      <td>6.2848</td>\n",
       "    </tr>\n",
       "    <tr>\n",
       "      <th>19538</th>\n",
       "      <td>55d54d9e-8ac7-11ea-8ec0-000d3a38a36f</td>\n",
       "      <td>52.5714</td>\n",
       "      <td>58.7143</td>\n",
       "      <td>31.0000</td>\n",
       "      <td>228.5300</td>\n",
       "      <td>3.0838</td>\n",
       "      <td>6.1676</td>\n",
       "    </tr>\n",
       "    <tr>\n",
       "      <th>14373</th>\n",
       "      <td>f00ad516-c4f4-11ea-98f7-000d3a38a36f</td>\n",
       "      <td>38.0000</td>\n",
       "      <td>46.4286</td>\n",
       "      <td>27.0000</td>\n",
       "      <td>141.3548</td>\n",
       "      <td>3.0013</td>\n",
       "      <td>6.0026</td>\n",
       "    </tr>\n",
       "  </tbody>\n",
       "</table>\n",
       "</div>"
      ],
      "text/plain": [
       "                                customer_id  recency       T  frequency  monetary  exp_sales_3_month  exp_sales_6_month\n",
       "7330   a4d534a2-5b1b-11eb-8dbd-000d3a38a36f  62.7143 67.2857    52.0000  166.2246             4.6561             9.3123\n",
       "15611  4a7e875e-e6ce-11ea-8f44-000d3a38a36f  39.7143 40.0000    29.0000  165.2976             3.3740             6.7479\n",
       "8328   1902bf80-0035-11eb-8341-000d3a38a36f  28.8571 33.2857    25.0000   97.4396             3.1424             6.2848\n",
       "19538  55d54d9e-8ac7-11ea-8ec0-000d3a38a36f  52.5714 58.7143    31.0000  228.5300             3.0838             6.1676\n",
       "14373  f00ad516-c4f4-11ea-98f7-000d3a38a36f  38.0000 46.4286    27.0000  141.3548             3.0013             6.0026"
      ]
     },
     "execution_count": 25,
     "metadata": {},
     "output_type": "execute_result"
    }
   ],
   "source": [
    "\"\"\"\n",
    "If we examine the data below, let's compare the customers in rows 1 and 4. 1. because \n",
    "customer's exp_sales value is bigger. The expected number of sales (1 month) was high, \n",
    "since the amount of products the customer shopped for was quite high and he did not do \n",
    "his shopping at a very distant date. When we look at the 4th customer, the frequency value\n",
    "is lower, but the monetary value is almost 1.5 times higher, we should know that the \n",
    "monetary value has no effect on the calculation of the expected number of purchases. \n",
    "In addition, since this customer has not shopped for a longer period of time, \n",
    "he ranks lower than the 1st customer.\n",
    "\"\"\"\n",
    "cltv.sort_values(by = \"exp_sales_6_month\", ascending =False).head()"
   ]
  },
  {
   "cell_type": "markdown",
   "id": "325749a8",
   "metadata": {
    "papermill": {
     "duration": 0.013865,
     "end_time": "2022-11-01T22:50:21.283471",
     "exception": false,
     "start_time": "2022-11-01T22:50:21.269606",
     "status": "completed"
    },
    "tags": []
   },
   "source": [
    "## Gamma - Gamma"
   ]
  },
  {
   "cell_type": "code",
   "execution_count": 26,
   "id": "08725d57",
   "metadata": {
    "execution": {
     "iopub.execute_input": "2022-11-01T22:50:21.313482Z",
     "iopub.status.busy": "2022-11-01T22:50:21.312720Z",
     "iopub.status.idle": "2022-11-01T22:50:21.465199Z",
     "shell.execute_reply": "2022-11-01T22:50:21.463920Z"
    },
    "papermill": {
     "duration": 0.17201,
     "end_time": "2022-11-01T22:50:21.469286",
     "exception": false,
     "start_time": "2022-11-01T22:50:21.297276",
     "status": "completed"
    },
    "tags": []
   },
   "outputs": [
    {
     "data": {
      "text/plain": [
       "<lifetimes.GammaGammaFitter: fitted with 19945 subjects, p: 4.15, q: 0.47, v: 4.08>"
      ]
     },
     "execution_count": 26,
     "metadata": {},
     "output_type": "execute_result"
    }
   ],
   "source": [
    "#Gamma-Gamma model is fitted and average values of customers are calculated.\n",
    "ggf = GammaGammaFitter(penalizer_coef=0.01)\n",
    "ggf.fit(cltv['frequency'],\n",
    "        cltv['monetary'])"
   ]
  },
  {
   "cell_type": "code",
   "execution_count": 27,
   "id": "5dd00c76",
   "metadata": {
    "execution": {
     "iopub.execute_input": "2022-11-01T22:50:21.522827Z",
     "iopub.status.busy": "2022-11-01T22:50:21.521738Z",
     "iopub.status.idle": "2022-11-01T22:50:21.544340Z",
     "shell.execute_reply": "2022-11-01T22:50:21.543053Z"
    },
    "papermill": {
     "duration": 0.053519,
     "end_time": "2022-11-01T22:50:21.547600",
     "exception": false,
     "start_time": "2022-11-01T22:50:21.494081",
     "status": "completed"
    },
    "tags": []
   },
   "outputs": [
    {
     "data": {
      "text/html": [
       "<div>\n",
       "<style scoped>\n",
       "    .dataframe tbody tr th:only-of-type {\n",
       "        vertical-align: middle;\n",
       "    }\n",
       "\n",
       "    .dataframe tbody tr th {\n",
       "        vertical-align: top;\n",
       "    }\n",
       "\n",
       "    .dataframe thead th {\n",
       "        text-align: right;\n",
       "    }\n",
       "</style>\n",
       "<table border=\"1\" class=\"dataframe\">\n",
       "  <thead>\n",
       "    <tr style=\"text-align: right;\">\n",
       "      <th></th>\n",
       "      <th>customer_id</th>\n",
       "      <th>recency</th>\n",
       "      <th>T</th>\n",
       "      <th>frequency</th>\n",
       "      <th>monetary</th>\n",
       "      <th>exp_sales_3_month</th>\n",
       "      <th>exp_sales_6_month</th>\n",
       "      <th>exp_average_value</th>\n",
       "    </tr>\n",
       "  </thead>\n",
       "  <tbody>\n",
       "    <tr>\n",
       "      <th>0</th>\n",
       "      <td>cc294636-19f0-11eb-8d74-000d3a38a36f</td>\n",
       "      <td>17.0000</td>\n",
       "      <td>30.5714</td>\n",
       "      <td>5.0000</td>\n",
       "      <td>187.8740</td>\n",
       "      <td>0.9739</td>\n",
       "      <td>1.9479</td>\n",
       "      <td>193.6327</td>\n",
       "    </tr>\n",
       "    <tr>\n",
       "      <th>1</th>\n",
       "      <td>f431bd5a-ab7b-11e9-a2fc-000d3a38a36f</td>\n",
       "      <td>209.8571</td>\n",
       "      <td>224.8571</td>\n",
       "      <td>21.0000</td>\n",
       "      <td>95.8833</td>\n",
       "      <td>0.9832</td>\n",
       "      <td>1.9663</td>\n",
       "      <td>96.6650</td>\n",
       "    </tr>\n",
       "    <tr>\n",
       "      <th>2</th>\n",
       "      <td>69b69676-1a40-11ea-941b-000d3a38a36f</td>\n",
       "      <td>52.2857</td>\n",
       "      <td>78.8571</td>\n",
       "      <td>5.0000</td>\n",
       "      <td>117.0640</td>\n",
       "      <td>0.6706</td>\n",
       "      <td>1.3412</td>\n",
       "      <td>120.9676</td>\n",
       "    </tr>\n",
       "    <tr>\n",
       "      <th>3</th>\n",
       "      <td>1854e56c-491f-11eb-806e-000d3a38a36f</td>\n",
       "      <td>1.5714</td>\n",
       "      <td>20.8571</td>\n",
       "      <td>2.0000</td>\n",
       "      <td>60.9850</td>\n",
       "      <td>0.7004</td>\n",
       "      <td>1.4008</td>\n",
       "      <td>67.3201</td>\n",
       "    </tr>\n",
       "    <tr>\n",
       "      <th>4</th>\n",
       "      <td>d6ea1074-f1f5-11e9-9346-000d3a38a36f</td>\n",
       "      <td>83.1429</td>\n",
       "      <td>95.4286</td>\n",
       "      <td>2.0000</td>\n",
       "      <td>104.9900</td>\n",
       "      <td>0.3960</td>\n",
       "      <td>0.7921</td>\n",
       "      <td>114.3251</td>\n",
       "    </tr>\n",
       "  </tbody>\n",
       "</table>\n",
       "</div>"
      ],
      "text/plain": [
       "                            customer_id  recency        T  frequency  monetary  exp_sales_3_month  exp_sales_6_month  exp_average_value\n",
       "0  cc294636-19f0-11eb-8d74-000d3a38a36f  17.0000  30.5714     5.0000  187.8740             0.9739             1.9479           193.6327\n",
       "1  f431bd5a-ab7b-11e9-a2fc-000d3a38a36f 209.8571 224.8571    21.0000   95.8833             0.9832             1.9663            96.6650\n",
       "2  69b69676-1a40-11ea-941b-000d3a38a36f  52.2857  78.8571     5.0000  117.0640             0.6706             1.3412           120.9676\n",
       "3  1854e56c-491f-11eb-806e-000d3a38a36f   1.5714  20.8571     2.0000   60.9850             0.7004             1.4008            67.3201\n",
       "4  d6ea1074-f1f5-11e9-9346-000d3a38a36f  83.1429  95.4286     2.0000  104.9900             0.3960             0.7921           114.3251"
      ]
     },
     "execution_count": 27,
     "metadata": {},
     "output_type": "execute_result"
    }
   ],
   "source": [
    "cltv[\"exp_average_value\"] = ggf.conditional_expected_average_profit(cltv['frequency'],\n",
    "                                                                       cltv['monetary'])\n",
    "cltv.head()"
   ]
  },
  {
   "cell_type": "code",
   "execution_count": 28,
   "id": "680715bb",
   "metadata": {
    "execution": {
     "iopub.execute_input": "2022-11-01T22:50:21.591394Z",
     "iopub.status.busy": "2022-11-01T22:50:21.590630Z",
     "iopub.status.idle": "2022-11-01T22:50:21.752772Z",
     "shell.execute_reply": "2022-11-01T22:50:21.751436Z"
    },
    "papermill": {
     "duration": 0.184021,
     "end_time": "2022-11-01T22:50:21.755374",
     "exception": false,
     "start_time": "2022-11-01T22:50:21.571353",
     "status": "completed"
    },
    "tags": []
   },
   "outputs": [],
   "source": [
    "#CLTV values for 6 months are calculated.\n",
    "cltv_gamma = ggf.customer_lifetime_value(bgf,\n",
    "                                   cltv['frequency'],\n",
    "                                   cltv['recency'],\n",
    "                                   cltv['T'],\n",
    "                                   cltv['monetary'],\n",
    "                                   time=6, \n",
    "                                   freq=\"W\", \n",
    "                                   discount_rate=0.01)\n",
    "cltv[\"cltv\"] = cltv_gamma\n"
   ]
  },
  {
   "cell_type": "code",
   "execution_count": 29,
   "id": "dc56533b",
   "metadata": {
    "execution": {
     "iopub.execute_input": "2022-11-01T22:50:21.786013Z",
     "iopub.status.busy": "2022-11-01T22:50:21.785596Z",
     "iopub.status.idle": "2022-11-01T22:50:21.807999Z",
     "shell.execute_reply": "2022-11-01T22:50:21.806851Z"
    },
    "papermill": {
     "duration": 0.040873,
     "end_time": "2022-11-01T22:50:21.810678",
     "exception": false,
     "start_time": "2022-11-01T22:50:21.769805",
     "status": "completed"
    },
    "tags": []
   },
   "outputs": [
    {
     "data": {
      "text/html": [
       "<div>\n",
       "<style scoped>\n",
       "    .dataframe tbody tr th:only-of-type {\n",
       "        vertical-align: middle;\n",
       "    }\n",
       "\n",
       "    .dataframe tbody tr th {\n",
       "        vertical-align: top;\n",
       "    }\n",
       "\n",
       "    .dataframe thead th {\n",
       "        text-align: right;\n",
       "    }\n",
       "</style>\n",
       "<table border=\"1\" class=\"dataframe\">\n",
       "  <thead>\n",
       "    <tr style=\"text-align: right;\">\n",
       "      <th></th>\n",
       "      <th>customer_id</th>\n",
       "      <th>recency</th>\n",
       "      <th>T</th>\n",
       "      <th>frequency</th>\n",
       "      <th>monetary</th>\n",
       "      <th>exp_sales_3_month</th>\n",
       "      <th>exp_sales_6_month</th>\n",
       "      <th>exp_average_value</th>\n",
       "      <th>cltv</th>\n",
       "    </tr>\n",
       "  </thead>\n",
       "  <tbody>\n",
       "    <tr>\n",
       "      <th>9055</th>\n",
       "      <td>47a642fe-975b-11eb-8c2a-000d3a38a36f</td>\n",
       "      <td>2.8571</td>\n",
       "      <td>7.8571</td>\n",
       "      <td>4.0000</td>\n",
       "      <td>1401.8000</td>\n",
       "      <td>1.0944</td>\n",
       "      <td>2.1888</td>\n",
       "      <td>1449.0605</td>\n",
       "      <td>3327.7770</td>\n",
       "    </tr>\n",
       "    <tr>\n",
       "      <th>13880</th>\n",
       "      <td>7137a5c0-7aad-11ea-8f20-000d3a38a36f</td>\n",
       "      <td>6.1429</td>\n",
       "      <td>13.1429</td>\n",
       "      <td>11.0000</td>\n",
       "      <td>758.0855</td>\n",
       "      <td>1.9701</td>\n",
       "      <td>3.9402</td>\n",
       "      <td>767.3606</td>\n",
       "      <td>3172.3944</td>\n",
       "    </tr>\n",
       "    <tr>\n",
       "      <th>17323</th>\n",
       "      <td>f59053e2-a503-11e9-a2fc-000d3a38a36f</td>\n",
       "      <td>51.7143</td>\n",
       "      <td>101.0000</td>\n",
       "      <td>7.0000</td>\n",
       "      <td>1106.4671</td>\n",
       "      <td>0.7222</td>\n",
       "      <td>1.4445</td>\n",
       "      <td>1127.6115</td>\n",
       "      <td>1708.9821</td>\n",
       "    </tr>\n",
       "    <tr>\n",
       "      <th>12438</th>\n",
       "      <td>625f40a2-5bd2-11ea-98b0-000d3a38a36f</td>\n",
       "      <td>74.2857</td>\n",
       "      <td>74.5714</td>\n",
       "      <td>16.0000</td>\n",
       "      <td>501.8737</td>\n",
       "      <td>1.5653</td>\n",
       "      <td>3.1306</td>\n",
       "      <td>506.1667</td>\n",
       "      <td>1662.6135</td>\n",
       "    </tr>\n",
       "    <tr>\n",
       "      <th>7330</th>\n",
       "      <td>a4d534a2-5b1b-11eb-8dbd-000d3a38a36f</td>\n",
       "      <td>62.7143</td>\n",
       "      <td>67.2857</td>\n",
       "      <td>52.0000</td>\n",
       "      <td>166.2246</td>\n",
       "      <td>4.6561</td>\n",
       "      <td>9.3123</td>\n",
       "      <td>166.7123</td>\n",
       "      <td>1628.8874</td>\n",
       "    </tr>\n",
       "    <tr>\n",
       "      <th>8868</th>\n",
       "      <td>9ce6e520-89b0-11ea-a6e7-000d3a38a36f</td>\n",
       "      <td>3.4286</td>\n",
       "      <td>34.4286</td>\n",
       "      <td>8.0000</td>\n",
       "      <td>601.2262</td>\n",
       "      <td>1.2655</td>\n",
       "      <td>2.5309</td>\n",
       "      <td>611.4926</td>\n",
       "      <td>1623.8127</td>\n",
       "    </tr>\n",
       "    <tr>\n",
       "      <th>6402</th>\n",
       "      <td>851de3b4-8f0c-11eb-8cb8-000d3a38a36f</td>\n",
       "      <td>8.2857</td>\n",
       "      <td>9.4286</td>\n",
       "      <td>2.0000</td>\n",
       "      <td>862.6900</td>\n",
       "      <td>0.7939</td>\n",
       "      <td>1.5878</td>\n",
       "      <td>923.6800</td>\n",
       "      <td>1538.8559</td>\n",
       "    </tr>\n",
       "    <tr>\n",
       "      <th>6666</th>\n",
       "      <td>53fe00d4-7b7a-11eb-960b-000d3a38a36f</td>\n",
       "      <td>9.7143</td>\n",
       "      <td>13.0000</td>\n",
       "      <td>17.0000</td>\n",
       "      <td>259.8653</td>\n",
       "      <td>2.7807</td>\n",
       "      <td>5.5614</td>\n",
       "      <td>262.0729</td>\n",
       "      <td>1529.2280</td>\n",
       "    </tr>\n",
       "    <tr>\n",
       "      <th>19538</th>\n",
       "      <td>55d54d9e-8ac7-11ea-8ec0-000d3a38a36f</td>\n",
       "      <td>52.5714</td>\n",
       "      <td>58.7143</td>\n",
       "      <td>31.0000</td>\n",
       "      <td>228.5300</td>\n",
       "      <td>3.0838</td>\n",
       "      <td>6.1676</td>\n",
       "      <td>229.6069</td>\n",
       "      <td>1485.8192</td>\n",
       "    </tr>\n",
       "    <tr>\n",
       "      <th>14858</th>\n",
       "      <td>031b2954-6d28-11eb-99c4-000d3a38a36f</td>\n",
       "      <td>14.8571</td>\n",
       "      <td>15.5714</td>\n",
       "      <td>3.0000</td>\n",
       "      <td>743.5867</td>\n",
       "      <td>0.8716</td>\n",
       "      <td>1.7431</td>\n",
       "      <td>778.0504</td>\n",
       "      <td>1422.9997</td>\n",
       "    </tr>\n",
       "    <tr>\n",
       "      <th>17963</th>\n",
       "      <td>8fd88976-6708-11ea-9d38-000d3a38a36f</td>\n",
       "      <td>50.2857</td>\n",
       "      <td>63.2857</td>\n",
       "      <td>7.0000</td>\n",
       "      <td>694.1986</td>\n",
       "      <td>0.9176</td>\n",
       "      <td>1.8351</td>\n",
       "      <td>707.6856</td>\n",
       "      <td>1362.6072</td>\n",
       "    </tr>\n",
       "    <tr>\n",
       "      <th>15516</th>\n",
       "      <td>9083981a-f59e-11e9-841e-000d3a38a36f</td>\n",
       "      <td>63.5714</td>\n",
       "      <td>83.8571</td>\n",
       "      <td>4.0000</td>\n",
       "      <td>1090.3600</td>\n",
       "      <td>0.5746</td>\n",
       "      <td>1.1493</td>\n",
       "      <td>1127.3545</td>\n",
       "      <td>1359.4397</td>\n",
       "    </tr>\n",
       "    <tr>\n",
       "      <th>6717</th>\n",
       "      <td>40b4f318-9dfb-11eb-9c47-000d3a38a36f</td>\n",
       "      <td>27.1429</td>\n",
       "      <td>33.8571</td>\n",
       "      <td>7.0000</td>\n",
       "      <td>544.7000</td>\n",
       "      <td>1.1630</td>\n",
       "      <td>2.3259</td>\n",
       "      <td>555.4103</td>\n",
       "      <td>1355.4352</td>\n",
       "    </tr>\n",
       "    <tr>\n",
       "      <th>4157</th>\n",
       "      <td>7eed6468-4540-11ea-acaf-000d3a38a36f</td>\n",
       "      <td>89.1429</td>\n",
       "      <td>90.0000</td>\n",
       "      <td>27.0000</td>\n",
       "      <td>289.7641</td>\n",
       "      <td>2.2143</td>\n",
       "      <td>4.4287</td>\n",
       "      <td>291.2922</td>\n",
       "      <td>1353.5337</td>\n",
       "    </tr>\n",
       "    <tr>\n",
       "      <th>4735</th>\n",
       "      <td>dbabb58e-6312-11ea-a6dc-000d3a38a36f</td>\n",
       "      <td>61.2857</td>\n",
       "      <td>64.2857</td>\n",
       "      <td>13.0000</td>\n",
       "      <td>442.1154</td>\n",
       "      <td>1.4236</td>\n",
       "      <td>2.8473</td>\n",
       "      <td>446.8162</td>\n",
       "      <td>1334.8251</td>\n",
       "    </tr>\n",
       "    <tr>\n",
       "      <th>11694</th>\n",
       "      <td>90f1b7f2-bbad-11ea-a0c9-000d3a38a36f</td>\n",
       "      <td>47.2857</td>\n",
       "      <td>48.0000</td>\n",
       "      <td>6.0000</td>\n",
       "      <td>647.3450</td>\n",
       "      <td>0.9339</td>\n",
       "      <td>1.8677</td>\n",
       "      <td>662.1103</td>\n",
       "      <td>1297.5186</td>\n",
       "    </tr>\n",
       "    <tr>\n",
       "      <th>11179</th>\n",
       "      <td>d2e74a36-3228-11eb-860c-000d3a38a36f</td>\n",
       "      <td>1.1429</td>\n",
       "      <td>26.2857</td>\n",
       "      <td>3.0000</td>\n",
       "      <td>750.5700</td>\n",
       "      <td>0.7804</td>\n",
       "      <td>1.5608</td>\n",
       "      <td>785.3440</td>\n",
       "      <td>1286.1378</td>\n",
       "    </tr>\n",
       "    <tr>\n",
       "      <th>1853</th>\n",
       "      <td>f02473b0-43c3-11eb-806e-000d3a38a36f</td>\n",
       "      <td>17.2857</td>\n",
       "      <td>23.1429</td>\n",
       "      <td>2.0000</td>\n",
       "      <td>835.8750</td>\n",
       "      <td>0.6843</td>\n",
       "      <td>1.3686</td>\n",
       "      <td>895.0369</td>\n",
       "      <td>1285.2277</td>\n",
       "    </tr>\n",
       "    <tr>\n",
       "      <th>5775</th>\n",
       "      <td>e31293ac-d63a-11e9-93bc-000d3a38a36f</td>\n",
       "      <td>91.7143</td>\n",
       "      <td>93.1429</td>\n",
       "      <td>8.0000</td>\n",
       "      <td>727.0862</td>\n",
       "      <td>0.8266</td>\n",
       "      <td>1.6533</td>\n",
       "      <td>739.3933</td>\n",
       "      <td>1282.5758</td>\n",
       "    </tr>\n",
       "    <tr>\n",
       "      <th>7312</th>\n",
       "      <td>90befc98-925a-11eb-b584-000d3a38a36f</td>\n",
       "      <td>4.1429</td>\n",
       "      <td>8.8571</td>\n",
       "      <td>6.0000</td>\n",
       "      <td>431.3283</td>\n",
       "      <td>1.3638</td>\n",
       "      <td>2.7275</td>\n",
       "      <td>441.3982</td>\n",
       "      <td>1263.1912</td>\n",
       "    </tr>\n",
       "  </tbody>\n",
       "</table>\n",
       "</div>"
      ],
      "text/plain": [
       "                                customer_id  recency        T  frequency  monetary  exp_sales_3_month  exp_sales_6_month  exp_average_value      cltv\n",
       "9055   47a642fe-975b-11eb-8c2a-000d3a38a36f   2.8571   7.8571     4.0000 1401.8000             1.0944             2.1888          1449.0605 3327.7770\n",
       "13880  7137a5c0-7aad-11ea-8f20-000d3a38a36f   6.1429  13.1429    11.0000  758.0855             1.9701             3.9402           767.3606 3172.3944\n",
       "17323  f59053e2-a503-11e9-a2fc-000d3a38a36f  51.7143 101.0000     7.0000 1106.4671             0.7222             1.4445          1127.6115 1708.9821\n",
       "12438  625f40a2-5bd2-11ea-98b0-000d3a38a36f  74.2857  74.5714    16.0000  501.8737             1.5653             3.1306           506.1667 1662.6135\n",
       "7330   a4d534a2-5b1b-11eb-8dbd-000d3a38a36f  62.7143  67.2857    52.0000  166.2246             4.6561             9.3123           166.7123 1628.8874\n",
       "8868   9ce6e520-89b0-11ea-a6e7-000d3a38a36f   3.4286  34.4286     8.0000  601.2262             1.2655             2.5309           611.4926 1623.8127\n",
       "6402   851de3b4-8f0c-11eb-8cb8-000d3a38a36f   8.2857   9.4286     2.0000  862.6900             0.7939             1.5878           923.6800 1538.8559\n",
       "6666   53fe00d4-7b7a-11eb-960b-000d3a38a36f   9.7143  13.0000    17.0000  259.8653             2.7807             5.5614           262.0729 1529.2280\n",
       "19538  55d54d9e-8ac7-11ea-8ec0-000d3a38a36f  52.5714  58.7143    31.0000  228.5300             3.0838             6.1676           229.6069 1485.8192\n",
       "14858  031b2954-6d28-11eb-99c4-000d3a38a36f  14.8571  15.5714     3.0000  743.5867             0.8716             1.7431           778.0504 1422.9997\n",
       "17963  8fd88976-6708-11ea-9d38-000d3a38a36f  50.2857  63.2857     7.0000  694.1986             0.9176             1.8351           707.6856 1362.6072\n",
       "15516  9083981a-f59e-11e9-841e-000d3a38a36f  63.5714  83.8571     4.0000 1090.3600             0.5746             1.1493          1127.3545 1359.4397\n",
       "6717   40b4f318-9dfb-11eb-9c47-000d3a38a36f  27.1429  33.8571     7.0000  544.7000             1.1630             2.3259           555.4103 1355.4352\n",
       "4157   7eed6468-4540-11ea-acaf-000d3a38a36f  89.1429  90.0000    27.0000  289.7641             2.2143             4.4287           291.2922 1353.5337\n",
       "4735   dbabb58e-6312-11ea-a6dc-000d3a38a36f  61.2857  64.2857    13.0000  442.1154             1.4236             2.8473           446.8162 1334.8251\n",
       "11694  90f1b7f2-bbad-11ea-a0c9-000d3a38a36f  47.2857  48.0000     6.0000  647.3450             0.9339             1.8677           662.1103 1297.5186\n",
       "11179  d2e74a36-3228-11eb-860c-000d3a38a36f   1.1429  26.2857     3.0000  750.5700             0.7804             1.5608           785.3440 1286.1378\n",
       "1853   f02473b0-43c3-11eb-806e-000d3a38a36f  17.2857  23.1429     2.0000  835.8750             0.6843             1.3686           895.0369 1285.2277\n",
       "5775   e31293ac-d63a-11e9-93bc-000d3a38a36f  91.7143  93.1429     8.0000  727.0862             0.8266             1.6533           739.3933 1282.5758\n",
       "7312   90befc98-925a-11eb-b584-000d3a38a36f   4.1429   8.8571     6.0000  431.3283             1.3638             2.7275           441.3982 1263.1912"
      ]
     },
     "execution_count": 29,
     "metadata": {},
     "output_type": "execute_result"
    }
   ],
   "source": [
    "\"\"\"\n",
    "Let's examine the top person out of these 20 people. We look at our top customer, \n",
    "frequency value of 4 is seriously low, we see that there is a 35-day customer with a \n",
    "transaction like (T-recency)x7. We can connect its low frequency with this. When we \n",
    "ook at the Monetary value, we see it as the highest value among the first 20 people.\n",
    "And the fact that this value is high, in a way, carried it to the top among cltv values. \n",
    "From here we can say that the height of the monetary value is in a positive correlation\n",
    "with the customer life time value.\n",
    "\n",
    "\"\"\"\n",
    "cltv.sort_values(\"cltv\",ascending=False)[:20]"
   ]
  },
  {
   "cell_type": "markdown",
   "id": "fbe2373d",
   "metadata": {
    "papermill": {
     "duration": 0.015184,
     "end_time": "2022-11-01T22:50:21.841124",
     "exception": false,
     "start_time": "2022-11-01T22:50:21.825940",
     "status": "completed"
    },
    "tags": []
   },
   "source": [
    "## Segment Operation"
   ]
  },
  {
   "cell_type": "code",
   "execution_count": 30,
   "id": "46d7b261",
   "metadata": {
    "execution": {
     "iopub.execute_input": "2022-11-01T22:50:21.874482Z",
     "iopub.status.busy": "2022-11-01T22:50:21.874045Z",
     "iopub.status.idle": "2022-11-01T22:50:21.893958Z",
     "shell.execute_reply": "2022-11-01T22:50:21.892732Z"
    },
    "papermill": {
     "duration": 0.038705,
     "end_time": "2022-11-01T22:50:21.896320",
     "exception": false,
     "start_time": "2022-11-01T22:50:21.857615",
     "status": "completed"
    },
    "tags": []
   },
   "outputs": [
    {
     "data": {
      "text/html": [
       "<div>\n",
       "<style scoped>\n",
       "    .dataframe tbody tr th:only-of-type {\n",
       "        vertical-align: middle;\n",
       "    }\n",
       "\n",
       "    .dataframe tbody tr th {\n",
       "        vertical-align: top;\n",
       "    }\n",
       "\n",
       "    .dataframe thead th {\n",
       "        text-align: right;\n",
       "    }\n",
       "</style>\n",
       "<table border=\"1\" class=\"dataframe\">\n",
       "  <thead>\n",
       "    <tr style=\"text-align: right;\">\n",
       "      <th></th>\n",
       "      <th>customer_id</th>\n",
       "      <th>recency</th>\n",
       "      <th>T</th>\n",
       "      <th>frequency</th>\n",
       "      <th>monetary</th>\n",
       "      <th>exp_sales_3_month</th>\n",
       "      <th>exp_sales_6_month</th>\n",
       "      <th>exp_average_value</th>\n",
       "      <th>cltv</th>\n",
       "      <th>cltv_segment</th>\n",
       "    </tr>\n",
       "  </thead>\n",
       "  <tbody>\n",
       "    <tr>\n",
       "      <th>0</th>\n",
       "      <td>cc294636-19f0-11eb-8d74-000d3a38a36f</td>\n",
       "      <td>17.0000</td>\n",
       "      <td>30.5714</td>\n",
       "      <td>5.0000</td>\n",
       "      <td>187.8740</td>\n",
       "      <td>0.9739</td>\n",
       "      <td>1.9479</td>\n",
       "      <td>193.6327</td>\n",
       "      <td>395.7332</td>\n",
       "      <td>A</td>\n",
       "    </tr>\n",
       "    <tr>\n",
       "      <th>1</th>\n",
       "      <td>f431bd5a-ab7b-11e9-a2fc-000d3a38a36f</td>\n",
       "      <td>209.8571</td>\n",
       "      <td>224.8571</td>\n",
       "      <td>21.0000</td>\n",
       "      <td>95.8833</td>\n",
       "      <td>0.9832</td>\n",
       "      <td>1.9663</td>\n",
       "      <td>96.6650</td>\n",
       "      <td>199.4307</td>\n",
       "      <td>B</td>\n",
       "    </tr>\n",
       "    <tr>\n",
       "      <th>2</th>\n",
       "      <td>69b69676-1a40-11ea-941b-000d3a38a36f</td>\n",
       "      <td>52.2857</td>\n",
       "      <td>78.8571</td>\n",
       "      <td>5.0000</td>\n",
       "      <td>117.0640</td>\n",
       "      <td>0.6706</td>\n",
       "      <td>1.3412</td>\n",
       "      <td>120.9676</td>\n",
       "      <td>170.2242</td>\n",
       "      <td>B</td>\n",
       "    </tr>\n",
       "    <tr>\n",
       "      <th>3</th>\n",
       "      <td>1854e56c-491f-11eb-806e-000d3a38a36f</td>\n",
       "      <td>1.5714</td>\n",
       "      <td>20.8571</td>\n",
       "      <td>2.0000</td>\n",
       "      <td>60.9850</td>\n",
       "      <td>0.7004</td>\n",
       "      <td>1.4008</td>\n",
       "      <td>67.3201</td>\n",
       "      <td>98.9455</td>\n",
       "      <td>D</td>\n",
       "    </tr>\n",
       "    <tr>\n",
       "      <th>4</th>\n",
       "      <td>d6ea1074-f1f5-11e9-9346-000d3a38a36f</td>\n",
       "      <td>83.1429</td>\n",
       "      <td>95.4286</td>\n",
       "      <td>2.0000</td>\n",
       "      <td>104.9900</td>\n",
       "      <td>0.3960</td>\n",
       "      <td>0.7921</td>\n",
       "      <td>114.3251</td>\n",
       "      <td>95.0117</td>\n",
       "      <td>D</td>\n",
       "    </tr>\n",
       "  </tbody>\n",
       "</table>\n",
       "</div>"
      ],
      "text/plain": [
       "                            customer_id  recency        T  frequency  monetary  exp_sales_3_month  exp_sales_6_month  exp_average_value     cltv cltv_segment\n",
       "0  cc294636-19f0-11eb-8d74-000d3a38a36f  17.0000  30.5714     5.0000  187.8740             0.9739             1.9479           193.6327 395.7332            A\n",
       "1  f431bd5a-ab7b-11e9-a2fc-000d3a38a36f 209.8571 224.8571    21.0000   95.8833             0.9832             1.9663            96.6650 199.4307            B\n",
       "2  69b69676-1a40-11ea-941b-000d3a38a36f  52.2857  78.8571     5.0000  117.0640             0.6706             1.3412           120.9676 170.2242            B\n",
       "3  1854e56c-491f-11eb-806e-000d3a38a36f   1.5714  20.8571     2.0000   60.9850             0.7004             1.4008            67.3201  98.9455            D\n",
       "4  d6ea1074-f1f5-11e9-9346-000d3a38a36f  83.1429  95.4286     2.0000  104.9900             0.3960             0.7921           114.3251  95.0117            D"
      ]
     },
     "execution_count": 30,
     "metadata": {},
     "output_type": "execute_result"
    }
   ],
   "source": [
    "#Customers are segmented to 4 groups according to their 6 month CLTV values\n",
    "cltv[\"cltv_segment\"] = pd.qcut(cltv[\"cltv\"], 4, labels=[\"D\", \"C\", \"B\", \"A\"])\n",
    "cltv.head()"
   ]
  },
  {
   "cell_type": "code",
   "execution_count": 31,
   "id": "cd6141d5",
   "metadata": {
    "execution": {
     "iopub.execute_input": "2022-11-01T22:50:21.929133Z",
     "iopub.status.busy": "2022-11-01T22:50:21.928342Z",
     "iopub.status.idle": "2022-11-01T22:50:21.993519Z",
     "shell.execute_reply": "2022-11-01T22:50:21.992254Z"
    },
    "papermill": {
     "duration": 0.084325,
     "end_time": "2022-11-01T22:50:21.996046",
     "exception": false,
     "start_time": "2022-11-01T22:50:21.911721",
     "status": "completed"
    },
    "tags": []
   },
   "outputs": [
    {
     "data": {
      "text/html": [
       "<div>\n",
       "<style scoped>\n",
       "    .dataframe tbody tr th:only-of-type {\n",
       "        vertical-align: middle;\n",
       "    }\n",
       "\n",
       "    .dataframe tbody tr th {\n",
       "        vertical-align: top;\n",
       "    }\n",
       "\n",
       "    .dataframe thead tr th {\n",
       "        text-align: left;\n",
       "    }\n",
       "\n",
       "    .dataframe thead tr:last-of-type th {\n",
       "        text-align: right;\n",
       "    }\n",
       "</style>\n",
       "<table border=\"1\" class=\"dataframe\">\n",
       "  <thead>\n",
       "    <tr>\n",
       "      <th></th>\n",
       "      <th colspan=\"2\" halign=\"left\">recency</th>\n",
       "      <th colspan=\"2\" halign=\"left\">T</th>\n",
       "      <th colspan=\"2\" halign=\"left\">frequency</th>\n",
       "      <th colspan=\"2\" halign=\"left\">monetary</th>\n",
       "      <th colspan=\"2\" halign=\"left\">exp_sales_3_month</th>\n",
       "      <th colspan=\"2\" halign=\"left\">exp_sales_6_month</th>\n",
       "      <th colspan=\"2\" halign=\"left\">exp_average_value</th>\n",
       "      <th colspan=\"2\" halign=\"left\">cltv</th>\n",
       "    </tr>\n",
       "    <tr>\n",
       "      <th></th>\n",
       "      <th>mean</th>\n",
       "      <th>count</th>\n",
       "      <th>mean</th>\n",
       "      <th>count</th>\n",
       "      <th>mean</th>\n",
       "      <th>count</th>\n",
       "      <th>mean</th>\n",
       "      <th>count</th>\n",
       "      <th>mean</th>\n",
       "      <th>count</th>\n",
       "      <th>mean</th>\n",
       "      <th>count</th>\n",
       "      <th>mean</th>\n",
       "      <th>count</th>\n",
       "      <th>mean</th>\n",
       "      <th>count</th>\n",
       "    </tr>\n",
       "    <tr>\n",
       "      <th>cltv_segment</th>\n",
       "      <th></th>\n",
       "      <th></th>\n",
       "      <th></th>\n",
       "      <th></th>\n",
       "      <th></th>\n",
       "      <th></th>\n",
       "      <th></th>\n",
       "      <th></th>\n",
       "      <th></th>\n",
       "      <th></th>\n",
       "      <th></th>\n",
       "      <th></th>\n",
       "      <th></th>\n",
       "      <th></th>\n",
       "      <th></th>\n",
       "      <th></th>\n",
       "    </tr>\n",
       "  </thead>\n",
       "  <tbody>\n",
       "    <tr>\n",
       "      <th>D</th>\n",
       "      <td>139.0002</td>\n",
       "      <td>4987</td>\n",
       "      <td>162.1832</td>\n",
       "      <td>4987</td>\n",
       "      <td>3.7688</td>\n",
       "      <td>4987</td>\n",
       "      <td>93.1516</td>\n",
       "      <td>4987</td>\n",
       "      <td>0.4089</td>\n",
       "      <td>4987</td>\n",
       "      <td>0.8178</td>\n",
       "      <td>4987</td>\n",
       "      <td>98.6911</td>\n",
       "      <td>4987</td>\n",
       "      <td>80.3405</td>\n",
       "      <td>4987</td>\n",
       "    </tr>\n",
       "    <tr>\n",
       "      <th>C</th>\n",
       "      <td>92.6295</td>\n",
       "      <td>4986</td>\n",
       "      <td>112.8183</td>\n",
       "      <td>4986</td>\n",
       "      <td>4.4047</td>\n",
       "      <td>4986</td>\n",
       "      <td>125.7885</td>\n",
       "      <td>4986</td>\n",
       "      <td>0.5254</td>\n",
       "      <td>4986</td>\n",
       "      <td>1.0509</td>\n",
       "      <td>4986</td>\n",
       "      <td>132.2506</td>\n",
       "      <td>4986</td>\n",
       "      <td>138.3115</td>\n",
       "      <td>4986</td>\n",
       "    </tr>\n",
       "    <tr>\n",
       "      <th>B</th>\n",
       "      <td>81.9884</td>\n",
       "      <td>4986</td>\n",
       "      <td>100.3265</td>\n",
       "      <td>4986</td>\n",
       "      <td>5.0927</td>\n",
       "      <td>4986</td>\n",
       "      <td>160.6366</td>\n",
       "      <td>4986</td>\n",
       "      <td>0.6011</td>\n",
       "      <td>4986</td>\n",
       "      <td>1.2022</td>\n",
       "      <td>4986</td>\n",
       "      <td>168.0006</td>\n",
       "      <td>4986</td>\n",
       "      <td>199.5328</td>\n",
       "      <td>4986</td>\n",
       "    </tr>\n",
       "    <tr>\n",
       "      <th>A</th>\n",
       "      <td>67.4271</td>\n",
       "      <td>4986</td>\n",
       "      <td>82.5497</td>\n",
       "      <td>4986</td>\n",
       "      <td>6.6466</td>\n",
       "      <td>4986</td>\n",
       "      <td>228.8311</td>\n",
       "      <td>4986</td>\n",
       "      <td>0.7730</td>\n",
       "      <td>4986</td>\n",
       "      <td>1.5461</td>\n",
       "      <td>4986</td>\n",
       "      <td>238.0240</td>\n",
       "      <td>4986</td>\n",
       "      <td>362.3155</td>\n",
       "      <td>4986</td>\n",
       "    </tr>\n",
       "  </tbody>\n",
       "</table>\n",
       "</div>"
      ],
      "text/plain": [
       "              recency              T       frequency       monetary       exp_sales_3_month       exp_sales_6_month       exp_average_value           cltv      \n",
       "                 mean count     mean count      mean count     mean count              mean count              mean count              mean count     mean count\n",
       "cltv_segment                                                                                                                                                    \n",
       "D            139.0002  4987 162.1832  4987    3.7688  4987  93.1516  4987            0.4089  4987            0.8178  4987           98.6911  4987  80.3405  4987\n",
       "C             92.6295  4986 112.8183  4986    4.4047  4986 125.7885  4986            0.5254  4986            1.0509  4986          132.2506  4986 138.3115  4986\n",
       "B             81.9884  4986 100.3265  4986    5.0927  4986 160.6366  4986            0.6011  4986            1.2022  4986          168.0006  4986 199.5328  4986\n",
       "A             67.4271  4986  82.5497  4986    6.6466  4986 228.8311  4986            0.7730  4986            1.5461  4986          238.0240  4986 362.3155  4986"
      ]
     },
     "execution_count": 31,
     "metadata": {},
     "output_type": "execute_result"
    }
   ],
   "source": [
    "#The mean values of recency, frequency and monetary are observed for each segment.\n",
    "cltv.groupby(\"cltv_segment\").agg([\"mean\",\"count\"])"
   ]
  }
 ],
 "metadata": {
  "kernelspec": {
   "display_name": "Python 3",
   "language": "python",
   "name": "python3"
  },
  "language_info": {
   "codemirror_mode": {
    "name": "ipython",
    "version": 3
   },
   "file_extension": ".py",
   "mimetype": "text/x-python",
   "name": "python",
   "nbconvert_exporter": "python",
   "pygments_lexer": "ipython3",
   "version": "3.7.12"
  },
  "papermill": {
   "default_parameters": {},
   "duration": 29.351554,
   "end_time": "2022-11-01T22:50:22.733158",
   "environment_variables": {},
   "exception": null,
   "input_path": "__notebook__.ipynb",
   "output_path": "__notebook__.ipynb",
   "parameters": {},
   "start_time": "2022-11-01T22:49:53.381604",
   "version": "2.3.4"
  }
 },
 "nbformat": 4,
 "nbformat_minor": 5
}
